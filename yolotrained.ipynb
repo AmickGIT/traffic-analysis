{
  "nbformat": 4,
  "nbformat_minor": 0,
  "metadata": {
    "colab": {
      "provenance": [],
      "gpuType": "T4"
    },
    "kernelspec": {
      "name": "python3",
      "display_name": "Python 3"
    },
    "language_info": {
      "name": "python"
    },
    "accelerator": "GPU"
  },
  "cells": [
    {
      "cell_type": "code",
      "execution_count": 3,
      "metadata": {
        "id": "YF0Wx4o7DJBT",
        "colab": {
          "base_uri": "https://localhost:8080/"
        },
        "outputId": "441801fb-3f18-4a20-f799-c5363b68142a"
      },
      "outputs": [
        {
          "output_type": "stream",
          "name": "stdout",
          "text": [
            "Creating new Ultralytics Settings v0.0.6 file ✅ \n",
            "View Ultralytics Settings with 'yolo settings' or at '/root/.config/Ultralytics/settings.json'\n",
            "Update Settings with 'yolo settings key=value', i.e. 'yolo settings runs_dir=path/to/dir'. For help see https://docs.ultralytics.com/quickstart/#ultralytics-settings.\n",
            "Downloading https://github.com/ultralytics/assets/releases/download/v8.3.0/yolov8n.pt to 'yolov8n.pt'...\n"
          ]
        },
        {
          "output_type": "stream",
          "name": "stderr",
          "text": [
            "100%|██████████| 6.25M/6.25M [00:00<00:00, 322MB/s]\n"
          ]
        },
        {
          "output_type": "stream",
          "name": "stdout",
          "text": [
            "Ultralytics 8.3.155 🚀 Python-3.11.13 torch-2.6.0+cu124 CUDA:0 (Tesla T4, 15095MiB)\n",
            "\u001b[34m\u001b[1mengine/trainer: \u001b[0magnostic_nms=False, amp=True, augment=False, auto_augment=randaugment, batch=4, bgr=0.0, box=7.5, cache=False, cfg=None, classes=None, close_mosaic=10, cls=0.5, conf=None, copy_paste=0.0, copy_paste_mode=flip, cos_lr=False, cutmix=0.0, data=/content/data/data.yaml, degrees=0.0, deterministic=True, device=0, dfl=1.5, dnn=False, dropout=0.0, dynamic=False, embed=None, epochs=30, erasing=0.4, exist_ok=False, fliplr=0.5, flipud=0.0, format=torchscript, fraction=1.0, freeze=None, half=False, hsv_h=0.015, hsv_s=0.7, hsv_v=0.4, imgsz=640, int8=False, iou=0.7, keras=False, kobj=1.0, line_width=None, lr0=0.01, lrf=0.01, mask_ratio=4, max_det=300, mixup=0.0, mode=train, model=yolov8n.pt, momentum=0.937, mosaic=1.0, multi_scale=False, name=train, nbs=64, nms=False, opset=None, optimize=False, optimizer=auto, overlap_mask=True, patience=100, perspective=0.0, plots=True, pose=12.0, pretrained=True, profile=False, project=None, rect=False, resume=False, retina_masks=False, save=True, save_conf=False, save_crop=False, save_dir=runs/detect/train, save_frames=False, save_json=False, save_period=-1, save_txt=False, scale=0.5, seed=0, shear=0.0, show=False, show_boxes=True, show_conf=True, show_labels=True, simplify=True, single_cls=False, source=None, split=val, stream_buffer=False, task=detect, time=None, tracker=botsort.yaml, translate=0.1, val=True, verbose=True, vid_stride=1, visualize=False, warmup_bias_lr=0.1, warmup_epochs=3.0, warmup_momentum=0.8, weight_decay=0.0005, workers=8, workspace=None\n",
            "Downloading https://ultralytics.com/assets/Arial.ttf to '/root/.config/Ultralytics/Arial.ttf'...\n"
          ]
        },
        {
          "output_type": "stream",
          "name": "stderr",
          "text": [
            "100%|██████████| 755k/755k [00:00<00:00, 88.3MB/s]"
          ]
        },
        {
          "output_type": "stream",
          "name": "stdout",
          "text": [
            "Overriding model.yaml nc=80 with nc=1\n",
            "\n",
            "                   from  n    params  module                                       arguments                     \n",
            "  0                  -1  1       464  ultralytics.nn.modules.conv.Conv             [3, 16, 3, 2]                 \n",
            "  1                  -1  1      4672  ultralytics.nn.modules.conv.Conv             [16, 32, 3, 2]                \n",
            "  2                  -1  1      7360  ultralytics.nn.modules.block.C2f             [32, 32, 1, True]             \n",
            "  3                  -1  1     18560  ultralytics.nn.modules.conv.Conv             [32, 64, 3, 2]                \n",
            "  4                  -1  2     49664  ultralytics.nn.modules.block.C2f             [64, 64, 2, True]             \n",
            "  5                  -1  1     73984  ultralytics.nn.modules.conv.Conv             [64, 128, 3, 2]               \n",
            "  6                  -1  2    197632  ultralytics.nn.modules.block.C2f             [128, 128, 2, True]           \n",
            "  7                  -1  1    295424  ultralytics.nn.modules.conv.Conv             [128, 256, 3, 2]              \n",
            "  8                  -1  1    460288  ultralytics.nn.modules.block.C2f             [256, 256, 1, True]           \n",
            "  9                  -1  1    164608  ultralytics.nn.modules.block.SPPF            [256, 256, 5]                 \n",
            " 10                  -1  1         0  torch.nn.modules.upsampling.Upsample         [None, 2, 'nearest']          \n",
            " 11             [-1, 6]  1         0  ultralytics.nn.modules.conv.Concat           [1]                           \n",
            " 12                  -1  1    148224  ultralytics.nn.modules.block.C2f             [384, 128, 1]                 \n",
            " 13                  -1  1         0  torch.nn.modules.upsampling.Upsample         [None, 2, 'nearest']          \n",
            " 14             [-1, 4]  1         0  ultralytics.nn.modules.conv.Concat           [1]                           \n",
            " 15                  -1  1     37248  ultralytics.nn.modules.block.C2f             [192, 64, 1]                  \n",
            " 16                  -1  1     36992  ultralytics.nn.modules.conv.Conv             [64, 64, 3, 2]                \n",
            " 17            [-1, 12]  1         0  ultralytics.nn.modules.conv.Concat           [1]                           \n",
            " 18                  -1  1    123648  ultralytics.nn.modules.block.C2f             [192, 128, 1]                 \n",
            " 19                  -1  1    147712  ultralytics.nn.modules.conv.Conv             [128, 128, 3, 2]              \n",
            " 20             [-1, 9]  1         0  ultralytics.nn.modules.conv.Concat           [1]                           \n",
            " 21                  -1  1    493056  ultralytics.nn.modules.block.C2f             [384, 256, 1]                 \n",
            " 22        [15, 18, 21]  1    751507  ultralytics.nn.modules.head.Detect           [1, [64, 128, 256]]           \n"
          ]
        },
        {
          "output_type": "stream",
          "name": "stderr",
          "text": [
            "\n"
          ]
        },
        {
          "output_type": "stream",
          "name": "stdout",
          "text": [
            "Model summary: 129 layers, 3,011,043 parameters, 3,011,027 gradients, 8.2 GFLOPs\n",
            "\n",
            "Transferred 319/355 items from pretrained weights\n",
            "Freezing layer 'model.22.dfl.conv.weight'\n",
            "\u001b[34m\u001b[1mAMP: \u001b[0mrunning Automatic Mixed Precision (AMP) checks...\n",
            "Downloading https://github.com/ultralytics/assets/releases/download/v8.3.0/yolo11n.pt to 'yolo11n.pt'...\n"
          ]
        },
        {
          "output_type": "stream",
          "name": "stderr",
          "text": [
            "100%|██████████| 5.35M/5.35M [00:00<00:00, 387MB/s]\n"
          ]
        },
        {
          "output_type": "stream",
          "name": "stdout",
          "text": [
            "\u001b[34m\u001b[1mAMP: \u001b[0mchecks passed ✅\n",
            "\u001b[34m\u001b[1mtrain: \u001b[0mFast image access ✅ (ping: 0.0±0.0 ms, read: 211.4±252.7 MB/s, size: 57.5 KB)\n"
          ]
        },
        {
          "output_type": "stream",
          "name": "stderr",
          "text": [
            "\u001b[34m\u001b[1mtrain: \u001b[0mScanning /content/data/train/labels... 536 images, 0 backgrounds, 0 corrupt: 100%|██████████| 536/536 [00:00<00:00, 553.89it/s]"
          ]
        },
        {
          "output_type": "stream",
          "name": "stdout",
          "text": [
            "\u001b[34m\u001b[1mtrain: \u001b[0mNew cache created: /content/data/train/labels.cache\n"
          ]
        },
        {
          "output_type": "stream",
          "name": "stderr",
          "text": [
            "\n"
          ]
        },
        {
          "output_type": "stream",
          "name": "stdout",
          "text": [
            "\u001b[34m\u001b[1malbumentations: \u001b[0mBlur(p=0.01, blur_limit=(3, 7)), MedianBlur(p=0.01, blur_limit=(3, 7)), ToGray(p=0.01, method='weighted_average', num_output_channels=3), CLAHE(p=0.01, clip_limit=(1.0, 4.0), tile_grid_size=(8, 8))\n",
            "\u001b[34m\u001b[1mval: \u001b[0mFast image access ✅ (ping: 0.0±0.0 ms, read: 20.0±8.6 MB/s, size: 57.6 KB)\n"
          ]
        },
        {
          "output_type": "stream",
          "name": "stderr",
          "text": [
            "\u001b[34m\u001b[1mval: \u001b[0mScanning /content/data/valid/labels... 90 images, 0 backgrounds, 0 corrupt: 100%|██████████| 90/90 [00:00<00:00, 523.77it/s]"
          ]
        },
        {
          "output_type": "stream",
          "name": "stdout",
          "text": [
            "\u001b[34m\u001b[1mval: \u001b[0mNew cache created: /content/data/valid/labels.cache\n"
          ]
        },
        {
          "output_type": "stream",
          "name": "stderr",
          "text": [
            "\n"
          ]
        },
        {
          "output_type": "stream",
          "name": "stdout",
          "text": [
            "Plotting labels to runs/detect/train/labels.jpg... \n",
            "\u001b[34m\u001b[1moptimizer:\u001b[0m 'optimizer=auto' found, ignoring 'lr0=0.01' and 'momentum=0.937' and determining best 'optimizer', 'lr0' and 'momentum' automatically... \n",
            "\u001b[34m\u001b[1moptimizer:\u001b[0m AdamW(lr=0.002, momentum=0.9) with parameter groups 57 weight(decay=0.0), 64 weight(decay=0.0005), 63 bias(decay=0.0)\n",
            "Image sizes 640 train, 640 val\n",
            "Using 2 dataloader workers\n",
            "Logging results to \u001b[1mruns/detect/train\u001b[0m\n",
            "Starting training for 30 epochs...\n",
            "\n",
            "      Epoch    GPU_mem   box_loss   cls_loss   dfl_loss  Instances       Size\n"
          ]
        },
        {
          "output_type": "stream",
          "name": "stderr",
          "text": [
            "       1/30     0.691G      1.268      1.621       1.04        108        640: 100%|██████████| 134/134 [00:18<00:00,  7.38it/s]\n",
            "                 Class     Images  Instances      Box(P          R      mAP50  mAP50-95): 100%|██████████| 12/12 [00:02<00:00,  5.91it/s]"
          ]
        },
        {
          "output_type": "stream",
          "name": "stdout",
          "text": [
            "                   all         90        937      0.794      0.831       0.88      0.607\n"
          ]
        },
        {
          "output_type": "stream",
          "name": "stderr",
          "text": [
            "\n"
          ]
        },
        {
          "output_type": "stream",
          "name": "stdout",
          "text": [
            "\n",
            "      Epoch    GPU_mem   box_loss   cls_loss   dfl_loss  Instances       Size\n"
          ]
        },
        {
          "output_type": "stream",
          "name": "stderr",
          "text": [
            "       2/30     0.752G      1.194      1.012      1.029        110        640: 100%|██████████| 134/134 [00:14<00:00,  8.98it/s]\n",
            "                 Class     Images  Instances      Box(P          R      mAP50  mAP50-95): 100%|██████████| 12/12 [00:00<00:00, 12.32it/s]"
          ]
        },
        {
          "output_type": "stream",
          "name": "stdout",
          "text": [
            "                   all         90        937      0.803      0.861      0.881      0.587\n"
          ]
        },
        {
          "output_type": "stream",
          "name": "stderr",
          "text": [
            "\n"
          ]
        },
        {
          "output_type": "stream",
          "name": "stdout",
          "text": [
            "\n",
            "      Epoch    GPU_mem   box_loss   cls_loss   dfl_loss  Instances       Size\n"
          ]
        },
        {
          "output_type": "stream",
          "name": "stderr",
          "text": [
            "       3/30     0.766G      1.175     0.9494      1.029         49        640: 100%|██████████| 134/134 [00:14<00:00,  9.05it/s]\n",
            "                 Class     Images  Instances      Box(P          R      mAP50  mAP50-95): 100%|██████████| 12/12 [00:01<00:00,  9.82it/s]"
          ]
        },
        {
          "output_type": "stream",
          "name": "stdout",
          "text": [
            "                   all         90        937      0.752      0.813      0.801      0.548\n"
          ]
        },
        {
          "output_type": "stream",
          "name": "stderr",
          "text": [
            "\n"
          ]
        },
        {
          "output_type": "stream",
          "name": "stdout",
          "text": [
            "\n",
            "      Epoch    GPU_mem   box_loss   cls_loss   dfl_loss  Instances       Size\n"
          ]
        },
        {
          "output_type": "stream",
          "name": "stderr",
          "text": [
            "       4/30     0.766G      1.184     0.9184      1.022         97        640: 100%|██████████| 134/134 [00:16<00:00,  8.19it/s]\n",
            "                 Class     Images  Instances      Box(P          R      mAP50  mAP50-95): 100%|██████████| 12/12 [00:00<00:00, 12.53it/s]"
          ]
        },
        {
          "output_type": "stream",
          "name": "stdout",
          "text": [
            "                   all         90        937      0.872       0.89       0.94      0.661\n"
          ]
        },
        {
          "output_type": "stream",
          "name": "stderr",
          "text": [
            "\n"
          ]
        },
        {
          "output_type": "stream",
          "name": "stdout",
          "text": [
            "\n",
            "      Epoch    GPU_mem   box_loss   cls_loss   dfl_loss  Instances       Size\n"
          ]
        },
        {
          "output_type": "stream",
          "name": "stderr",
          "text": [
            "       5/30     0.766G       1.15      0.834      1.021         45        640: 100%|██████████| 134/134 [00:14<00:00,  9.09it/s]\n",
            "                 Class     Images  Instances      Box(P          R      mAP50  mAP50-95): 100%|██████████| 12/12 [00:00<00:00, 12.64it/s]"
          ]
        },
        {
          "output_type": "stream",
          "name": "stdout",
          "text": [
            "                   all         90        937       0.87       0.86      0.922       0.65\n"
          ]
        },
        {
          "output_type": "stream",
          "name": "stderr",
          "text": [
            "\n"
          ]
        },
        {
          "output_type": "stream",
          "name": "stdout",
          "text": [
            "\n",
            "      Epoch    GPU_mem   box_loss   cls_loss   dfl_loss  Instances       Size\n"
          ]
        },
        {
          "output_type": "stream",
          "name": "stderr",
          "text": [
            "       6/30      0.77G       1.13     0.7933      1.016         54        640: 100%|██████████| 134/134 [00:14<00:00,  9.09it/s]\n",
            "                 Class     Images  Instances      Box(P          R      mAP50  mAP50-95): 100%|██████████| 12/12 [00:00<00:00, 12.99it/s]"
          ]
        },
        {
          "output_type": "stream",
          "name": "stdout",
          "text": [
            "                   all         90        937      0.916      0.886      0.961      0.681\n"
          ]
        },
        {
          "output_type": "stream",
          "name": "stderr",
          "text": [
            "\n"
          ]
        },
        {
          "output_type": "stream",
          "name": "stdout",
          "text": [
            "\n",
            "      Epoch    GPU_mem   box_loss   cls_loss   dfl_loss  Instances       Size\n"
          ]
        },
        {
          "output_type": "stream",
          "name": "stderr",
          "text": [
            "       7/30     0.787G      1.125     0.7717      1.018         61        640: 100%|██████████| 134/134 [00:14<00:00,  9.05it/s]\n",
            "                 Class     Images  Instances      Box(P          R      mAP50  mAP50-95): 100%|██████████| 12/12 [00:01<00:00,  8.66it/s]"
          ]
        },
        {
          "output_type": "stream",
          "name": "stdout",
          "text": [
            "                   all         90        937      0.896      0.874      0.948      0.674\n"
          ]
        },
        {
          "output_type": "stream",
          "name": "stderr",
          "text": [
            "\n"
          ]
        },
        {
          "output_type": "stream",
          "name": "stdout",
          "text": [
            "\n",
            "      Epoch    GPU_mem   box_loss   cls_loss   dfl_loss  Instances       Size\n"
          ]
        },
        {
          "output_type": "stream",
          "name": "stderr",
          "text": [
            "       8/30      0.83G      1.119     0.7531      1.008         84        640: 100%|██████████| 134/134 [00:15<00:00,  8.72it/s]\n",
            "                 Class     Images  Instances      Box(P          R      mAP50  mAP50-95): 100%|██████████| 12/12 [00:00<00:00, 13.17it/s]"
          ]
        },
        {
          "output_type": "stream",
          "name": "stdout",
          "text": [
            "                   all         90        937      0.879      0.891      0.956      0.689\n"
          ]
        },
        {
          "output_type": "stream",
          "name": "stderr",
          "text": [
            "\n"
          ]
        },
        {
          "output_type": "stream",
          "name": "stdout",
          "text": [
            "\n",
            "      Epoch    GPU_mem   box_loss   cls_loss   dfl_loss  Instances       Size\n"
          ]
        },
        {
          "output_type": "stream",
          "name": "stderr",
          "text": [
            "       9/30      0.83G      1.078     0.7039     0.9926         98        640: 100%|██████████| 134/134 [00:14<00:00,  9.15it/s]\n",
            "                 Class     Images  Instances      Box(P          R      mAP50  mAP50-95): 100%|██████████| 12/12 [00:00<00:00, 13.09it/s]"
          ]
        },
        {
          "output_type": "stream",
          "name": "stdout",
          "text": [
            "                   all         90        937      0.888      0.923      0.959      0.687\n"
          ]
        },
        {
          "output_type": "stream",
          "name": "stderr",
          "text": [
            "\n"
          ]
        },
        {
          "output_type": "stream",
          "name": "stdout",
          "text": [
            "\n",
            "      Epoch    GPU_mem   box_loss   cls_loss   dfl_loss  Instances       Size\n"
          ]
        },
        {
          "output_type": "stream",
          "name": "stderr",
          "text": [
            "      10/30      0.83G      1.085     0.7125      1.007         69        640: 100%|██████████| 134/134 [00:14<00:00,  9.14it/s]\n",
            "                 Class     Images  Instances      Box(P          R      mAP50  mAP50-95): 100%|██████████| 12/12 [00:00<00:00, 12.92it/s]"
          ]
        },
        {
          "output_type": "stream",
          "name": "stdout",
          "text": [
            "                   all         90        937      0.898      0.891      0.961      0.687\n"
          ]
        },
        {
          "output_type": "stream",
          "name": "stderr",
          "text": [
            "\n"
          ]
        },
        {
          "output_type": "stream",
          "name": "stdout",
          "text": [
            "\n",
            "      Epoch    GPU_mem   box_loss   cls_loss   dfl_loss  Instances       Size\n"
          ]
        },
        {
          "output_type": "stream",
          "name": "stderr",
          "text": [
            "      11/30      0.83G      1.061     0.6724     0.9771         61        640: 100%|██████████| 134/134 [00:15<00:00,  8.85it/s]\n",
            "                 Class     Images  Instances      Box(P          R      mAP50  mAP50-95): 100%|██████████| 12/12 [00:01<00:00,  7.70it/s]\n"
          ]
        },
        {
          "output_type": "stream",
          "name": "stdout",
          "text": [
            "                   all         90        937      0.893      0.891      0.956      0.683\n",
            "\n",
            "      Epoch    GPU_mem   box_loss   cls_loss   dfl_loss  Instances       Size\n"
          ]
        },
        {
          "output_type": "stream",
          "name": "stderr",
          "text": [
            "      12/30      0.83G      1.078     0.7002     0.9984         32        640: 100%|██████████| 134/134 [00:14<00:00,  9.20it/s]\n",
            "                 Class     Images  Instances      Box(P          R      mAP50  mAP50-95): 100%|██████████| 12/12 [00:00<00:00, 13.51it/s]"
          ]
        },
        {
          "output_type": "stream",
          "name": "stdout",
          "text": [
            "                   all         90        937       0.92       0.88      0.955      0.684\n"
          ]
        },
        {
          "output_type": "stream",
          "name": "stderr",
          "text": [
            "\n"
          ]
        },
        {
          "output_type": "stream",
          "name": "stdout",
          "text": [
            "\n",
            "      Epoch    GPU_mem   box_loss   cls_loss   dfl_loss  Instances       Size\n"
          ]
        },
        {
          "output_type": "stream",
          "name": "stderr",
          "text": [
            "      13/30      0.83G      1.076     0.6953     0.9938         25        640: 100%|██████████| 134/134 [00:14<00:00,  9.25it/s]\n",
            "                 Class     Images  Instances      Box(P          R      mAP50  mAP50-95): 100%|██████████| 12/12 [00:00<00:00, 13.67it/s]"
          ]
        },
        {
          "output_type": "stream",
          "name": "stdout",
          "text": [
            "                   all         90        937      0.903       0.88      0.957       0.69\n"
          ]
        },
        {
          "output_type": "stream",
          "name": "stderr",
          "text": [
            "\n"
          ]
        },
        {
          "output_type": "stream",
          "name": "stdout",
          "text": [
            "\n",
            "      Epoch    GPU_mem   box_loss   cls_loss   dfl_loss  Instances       Size\n"
          ]
        },
        {
          "output_type": "stream",
          "name": "stderr",
          "text": [
            "      14/30      0.83G      1.045     0.6525     0.9815         55        640: 100%|██████████| 134/134 [00:14<00:00,  9.33it/s]\n",
            "                 Class     Images  Instances      Box(P          R      mAP50  mAP50-95): 100%|██████████| 12/12 [00:00<00:00, 13.53it/s]"
          ]
        },
        {
          "output_type": "stream",
          "name": "stdout",
          "text": [
            "                   all         90        937      0.894      0.921      0.958      0.701\n"
          ]
        },
        {
          "output_type": "stream",
          "name": "stderr",
          "text": [
            "\n"
          ]
        },
        {
          "output_type": "stream",
          "name": "stdout",
          "text": [
            "\n",
            "      Epoch    GPU_mem   box_loss   cls_loss   dfl_loss  Instances       Size\n"
          ]
        },
        {
          "output_type": "stream",
          "name": "stderr",
          "text": [
            "      15/30      0.83G      1.041     0.6397     0.9885         35        640: 100%|██████████| 134/134 [00:15<00:00,  8.89it/s]\n",
            "                 Class     Images  Instances      Box(P          R      mAP50  mAP50-95): 100%|██████████| 12/12 [00:01<00:00,  8.33it/s]"
          ]
        },
        {
          "output_type": "stream",
          "name": "stdout",
          "text": [
            "                   all         90        937      0.891      0.914      0.963      0.685\n"
          ]
        },
        {
          "output_type": "stream",
          "name": "stderr",
          "text": [
            "\n"
          ]
        },
        {
          "output_type": "stream",
          "name": "stdout",
          "text": [
            "\n",
            "      Epoch    GPU_mem   box_loss   cls_loss   dfl_loss  Instances       Size\n"
          ]
        },
        {
          "output_type": "stream",
          "name": "stderr",
          "text": [
            "      16/30      0.83G      1.043     0.6296     0.9841         53        640: 100%|██████████| 134/134 [00:14<00:00,  9.03it/s]\n",
            "                 Class     Images  Instances      Box(P          R      mAP50  mAP50-95): 100%|██████████| 12/12 [00:00<00:00, 12.95it/s]"
          ]
        },
        {
          "output_type": "stream",
          "name": "stdout",
          "text": [
            "                   all         90        937       0.91      0.894      0.966      0.706\n"
          ]
        },
        {
          "output_type": "stream",
          "name": "stderr",
          "text": [
            "\n"
          ]
        },
        {
          "output_type": "stream",
          "name": "stdout",
          "text": [
            "\n",
            "      Epoch    GPU_mem   box_loss   cls_loss   dfl_loss  Instances       Size\n"
          ]
        },
        {
          "output_type": "stream",
          "name": "stderr",
          "text": [
            "      17/30      0.83G      1.049     0.6176     0.9836         97        640: 100%|██████████| 134/134 [00:14<00:00,  9.08it/s]\n",
            "                 Class     Images  Instances      Box(P          R      mAP50  mAP50-95): 100%|██████████| 12/12 [00:00<00:00, 13.22it/s]"
          ]
        },
        {
          "output_type": "stream",
          "name": "stdout",
          "text": [
            "                   all         90        937      0.886      0.905      0.954      0.694\n"
          ]
        },
        {
          "output_type": "stream",
          "name": "stderr",
          "text": [
            "\n"
          ]
        },
        {
          "output_type": "stream",
          "name": "stdout",
          "text": [
            "\n",
            "      Epoch    GPU_mem   box_loss   cls_loss   dfl_loss  Instances       Size\n"
          ]
        },
        {
          "output_type": "stream",
          "name": "stderr",
          "text": [
            "      18/30      0.83G      1.034     0.6142      0.975        115        640: 100%|██████████| 134/134 [00:14<00:00,  9.14it/s]\n",
            "                 Class     Images  Instances      Box(P          R      mAP50  mAP50-95): 100%|██████████| 12/12 [00:00<00:00, 13.48it/s]"
          ]
        },
        {
          "output_type": "stream",
          "name": "stdout",
          "text": [
            "                   all         90        937       0.91      0.902      0.969      0.703\n"
          ]
        },
        {
          "output_type": "stream",
          "name": "stderr",
          "text": [
            "\n"
          ]
        },
        {
          "output_type": "stream",
          "name": "stdout",
          "text": [
            "\n",
            "      Epoch    GPU_mem   box_loss   cls_loss   dfl_loss  Instances       Size\n"
          ]
        },
        {
          "output_type": "stream",
          "name": "stderr",
          "text": [
            "      19/30     0.844G      1.003     0.5979     0.9664         36        640: 100%|██████████| 134/134 [00:15<00:00,  8.81it/s]\n",
            "                 Class     Images  Instances      Box(P          R      mAP50  mAP50-95): 100%|██████████| 12/12 [00:01<00:00,  8.28it/s]"
          ]
        },
        {
          "output_type": "stream",
          "name": "stdout",
          "text": [
            "                   all         90        937      0.901       0.92      0.969      0.713\n"
          ]
        },
        {
          "output_type": "stream",
          "name": "stderr",
          "text": [
            "\n"
          ]
        },
        {
          "output_type": "stream",
          "name": "stdout",
          "text": [
            "\n",
            "      Epoch    GPU_mem   box_loss   cls_loss   dfl_loss  Instances       Size\n"
          ]
        },
        {
          "output_type": "stream",
          "name": "stderr",
          "text": [
            "      20/30     0.859G      1.031     0.5944     0.9741         51        640: 100%|██████████| 134/134 [00:14<00:00,  9.17it/s]\n",
            "                 Class     Images  Instances      Box(P          R      mAP50  mAP50-95): 100%|██████████| 12/12 [00:00<00:00, 13.53it/s]"
          ]
        },
        {
          "output_type": "stream",
          "name": "stdout",
          "text": [
            "                   all         90        937      0.914      0.918      0.968      0.717\n"
          ]
        },
        {
          "output_type": "stream",
          "name": "stderr",
          "text": [
            "\n"
          ]
        },
        {
          "output_type": "stream",
          "name": "stdout",
          "text": [
            "Closing dataloader mosaic\n",
            "\u001b[34m\u001b[1malbumentations: \u001b[0mBlur(p=0.01, blur_limit=(3, 7)), MedianBlur(p=0.01, blur_limit=(3, 7)), ToGray(p=0.01, method='weighted_average', num_output_channels=3), CLAHE(p=0.01, clip_limit=(1.0, 4.0), tile_grid_size=(8, 8))\n",
            "\n",
            "      Epoch    GPU_mem   box_loss   cls_loss   dfl_loss  Instances       Size\n"
          ]
        },
        {
          "output_type": "stream",
          "name": "stderr",
          "text": [
            "      21/30     0.859G      1.012     0.5744      0.969         26        640: 100%|██████████| 134/134 [00:14<00:00,  8.99it/s]\n",
            "                 Class     Images  Instances      Box(P          R      mAP50  mAP50-95): 100%|██████████| 12/12 [00:00<00:00, 13.26it/s]"
          ]
        },
        {
          "output_type": "stream",
          "name": "stdout",
          "text": [
            "                   all         90        937      0.898      0.922      0.969      0.698\n"
          ]
        },
        {
          "output_type": "stream",
          "name": "stderr",
          "text": [
            "\n"
          ]
        },
        {
          "output_type": "stream",
          "name": "stdout",
          "text": [
            "\n",
            "      Epoch    GPU_mem   box_loss   cls_loss   dfl_loss  Instances       Size\n"
          ]
        },
        {
          "output_type": "stream",
          "name": "stderr",
          "text": [
            "      22/30     0.859G     0.9959     0.5592     0.9576         17        640: 100%|██████████| 134/134 [00:14<00:00,  9.44it/s]\n",
            "                 Class     Images  Instances      Box(P          R      mAP50  mAP50-95): 100%|██████████| 12/12 [00:00<00:00, 13.30it/s]"
          ]
        },
        {
          "output_type": "stream",
          "name": "stdout",
          "text": [
            "                   all         90        937      0.908       0.92       0.97      0.712\n"
          ]
        },
        {
          "output_type": "stream",
          "name": "stderr",
          "text": [
            "\n"
          ]
        },
        {
          "output_type": "stream",
          "name": "stdout",
          "text": [
            "\n",
            "      Epoch    GPU_mem   box_loss   cls_loss   dfl_loss  Instances       Size\n"
          ]
        },
        {
          "output_type": "stream",
          "name": "stderr",
          "text": [
            "      23/30     0.863G     0.9824      0.549     0.9573         54        640: 100%|██████████| 134/134 [00:14<00:00,  9.12it/s]\n",
            "                 Class     Images  Instances      Box(P          R      mAP50  mAP50-95): 100%|██████████| 12/12 [00:01<00:00,  8.44it/s]"
          ]
        },
        {
          "output_type": "stream",
          "name": "stdout",
          "text": [
            "                   all         90        937      0.912       0.92      0.969      0.717\n"
          ]
        },
        {
          "output_type": "stream",
          "name": "stderr",
          "text": [
            "\n"
          ]
        },
        {
          "output_type": "stream",
          "name": "stdout",
          "text": [
            "\n",
            "      Epoch    GPU_mem   box_loss   cls_loss   dfl_loss  Instances       Size\n"
          ]
        },
        {
          "output_type": "stream",
          "name": "stderr",
          "text": [
            "      24/30     0.881G     0.9735     0.5518     0.9611         30        640: 100%|██████████| 134/134 [00:14<00:00,  9.35it/s]\n",
            "                 Class     Images  Instances      Box(P          R      mAP50  mAP50-95): 100%|██████████| 12/12 [00:00<00:00, 13.41it/s]"
          ]
        },
        {
          "output_type": "stream",
          "name": "stdout",
          "text": [
            "                   all         90        937      0.916      0.921      0.971      0.728\n"
          ]
        },
        {
          "output_type": "stream",
          "name": "stderr",
          "text": [
            "\n"
          ]
        },
        {
          "output_type": "stream",
          "name": "stdout",
          "text": [
            "\n",
            "      Epoch    GPU_mem   box_loss   cls_loss   dfl_loss  Instances       Size\n"
          ]
        },
        {
          "output_type": "stream",
          "name": "stderr",
          "text": [
            "      25/30     0.896G     0.9651     0.5283     0.9597         30        640: 100%|██████████| 134/134 [00:14<00:00,  9.47it/s]\n",
            "                 Class     Images  Instances      Box(P          R      mAP50  mAP50-95): 100%|██████████| 12/12 [00:00<00:00, 13.16it/s]"
          ]
        },
        {
          "output_type": "stream",
          "name": "stdout",
          "text": [
            "                   all         90        937      0.906      0.941      0.975       0.73\n"
          ]
        },
        {
          "output_type": "stream",
          "name": "stderr",
          "text": [
            "\n"
          ]
        },
        {
          "output_type": "stream",
          "name": "stdout",
          "text": [
            "\n",
            "      Epoch    GPU_mem   box_loss   cls_loss   dfl_loss  Instances       Size\n"
          ]
        },
        {
          "output_type": "stream",
          "name": "stderr",
          "text": [
            "      26/30     0.898G     0.9684     0.5286     0.9574         59        640: 100%|██████████| 134/134 [00:14<00:00,  9.44it/s]\n",
            "                 Class     Images  Instances      Box(P          R      mAP50  mAP50-95): 100%|██████████| 12/12 [00:00<00:00, 13.52it/s]"
          ]
        },
        {
          "output_type": "stream",
          "name": "stdout",
          "text": [
            "                   all         90        937      0.909      0.931      0.973      0.727\n"
          ]
        },
        {
          "output_type": "stream",
          "name": "stderr",
          "text": [
            "\n"
          ]
        },
        {
          "output_type": "stream",
          "name": "stdout",
          "text": [
            "\n",
            "      Epoch    GPU_mem   box_loss   cls_loss   dfl_loss  Instances       Size\n"
          ]
        },
        {
          "output_type": "stream",
          "name": "stderr",
          "text": [
            "      27/30     0.898G     0.9449      0.516     0.9501         28        640: 100%|██████████| 134/134 [00:14<00:00,  9.27it/s]\n",
            "                 Class     Images  Instances      Box(P          R      mAP50  mAP50-95): 100%|██████████| 12/12 [00:01<00:00,  9.80it/s]"
          ]
        },
        {
          "output_type": "stream",
          "name": "stdout",
          "text": [
            "                   all         90        937      0.918      0.915      0.968      0.726\n"
          ]
        },
        {
          "output_type": "stream",
          "name": "stderr",
          "text": [
            "\n"
          ]
        },
        {
          "output_type": "stream",
          "name": "stdout",
          "text": [
            "\n",
            "      Epoch    GPU_mem   box_loss   cls_loss   dfl_loss  Instances       Size\n"
          ]
        },
        {
          "output_type": "stream",
          "name": "stderr",
          "text": [
            "      28/30     0.898G     0.9423      0.511     0.9441         36        640: 100%|██████████| 134/134 [00:14<00:00,  9.01it/s]\n",
            "                 Class     Images  Instances      Box(P          R      mAP50  mAP50-95): 100%|██████████| 12/12 [00:00<00:00, 13.59it/s]"
          ]
        },
        {
          "output_type": "stream",
          "name": "stdout",
          "text": [
            "                   all         90        937      0.914      0.921      0.973      0.722\n"
          ]
        },
        {
          "output_type": "stream",
          "name": "stderr",
          "text": [
            "\n"
          ]
        },
        {
          "output_type": "stream",
          "name": "stdout",
          "text": [
            "\n",
            "      Epoch    GPU_mem   box_loss   cls_loss   dfl_loss  Instances       Size\n"
          ]
        },
        {
          "output_type": "stream",
          "name": "stderr",
          "text": [
            "      29/30     0.898G     0.9337      0.499     0.9411         12        640: 100%|██████████| 134/134 [00:14<00:00,  9.44it/s]\n",
            "                 Class     Images  Instances      Box(P          R      mAP50  mAP50-95): 100%|██████████| 12/12 [00:00<00:00, 13.52it/s]"
          ]
        },
        {
          "output_type": "stream",
          "name": "stdout",
          "text": [
            "                   all         90        937        0.9      0.939      0.976      0.732\n"
          ]
        },
        {
          "output_type": "stream",
          "name": "stderr",
          "text": [
            "\n"
          ]
        },
        {
          "output_type": "stream",
          "name": "stdout",
          "text": [
            "\n",
            "      Epoch    GPU_mem   box_loss   cls_loss   dfl_loss  Instances       Size\n"
          ]
        },
        {
          "output_type": "stream",
          "name": "stderr",
          "text": [
            "      30/30     0.898G     0.9232     0.4959     0.9447         39        640: 100%|██████████| 134/134 [00:14<00:00,  9.33it/s]\n",
            "                 Class     Images  Instances      Box(P          R      mAP50  mAP50-95): 100%|██████████| 12/12 [00:00<00:00, 13.67it/s]"
          ]
        },
        {
          "output_type": "stream",
          "name": "stdout",
          "text": [
            "                   all         90        937      0.896      0.935      0.974      0.728\n"
          ]
        },
        {
          "output_type": "stream",
          "name": "stderr",
          "text": [
            "\n"
          ]
        },
        {
          "output_type": "stream",
          "name": "stdout",
          "text": [
            "\n",
            "30 epochs completed in 0.135 hours.\n",
            "Optimizer stripped from runs/detect/train/weights/last.pt, 6.2MB\n",
            "Optimizer stripped from runs/detect/train/weights/best.pt, 6.2MB\n",
            "\n",
            "Validating runs/detect/train/weights/best.pt...\n",
            "Ultralytics 8.3.155 🚀 Python-3.11.13 torch-2.6.0+cu124 CUDA:0 (Tesla T4, 15095MiB)\n",
            "Model summary (fused): 72 layers, 3,005,843 parameters, 0 gradients, 8.1 GFLOPs\n"
          ]
        },
        {
          "output_type": "stream",
          "name": "stderr",
          "text": [
            "                 Class     Images  Instances      Box(P          R      mAP50  mAP50-95): 100%|██████████| 12/12 [00:02<00:00,  5.02it/s]\n"
          ]
        },
        {
          "output_type": "stream",
          "name": "stdout",
          "text": [
            "                   all         90        937      0.901      0.939      0.975      0.733\n",
            "Speed: 0.7ms preprocess, 5.5ms inference, 0.0ms loss, 4.7ms postprocess per image\n",
            "Results saved to \u001b[1mruns/detect/train\u001b[0m\n",
            "Ultralytics 8.3.155 🚀 Python-3.11.13 torch-2.6.0+cu124 CUDA:0 (Tesla T4, 15095MiB)\n",
            "Model summary (fused): 72 layers, 3,005,843 parameters, 0 gradients, 8.1 GFLOPs\n",
            "\u001b[34m\u001b[1mval: \u001b[0mFast image access ✅ (ping: 0.0±0.0 ms, read: 1855.1±340.0 MB/s, size: 61.7 KB)\n"
          ]
        },
        {
          "output_type": "stream",
          "name": "stderr",
          "text": [
            "\u001b[34m\u001b[1mval: \u001b[0mScanning /content/data/valid/labels.cache... 90 images, 0 backgrounds, 0 corrupt: 100%|██████████| 90/90 [00:00<?, ?it/s]\n",
            "                 Class     Images  Instances      Box(P          R      mAP50  mAP50-95): 100%|██████████| 23/23 [00:02<00:00, 10.82it/s]\n"
          ]
        },
        {
          "output_type": "stream",
          "name": "stdout",
          "text": [
            "                   all         90        937        0.9      0.939      0.975      0.732\n",
            "Speed: 0.5ms preprocess, 9.0ms inference, 0.0ms loss, 1.9ms postprocess per image\n",
            "Results saved to \u001b[1mruns/detect/train2\u001b[0m\n",
            "ultralytics.utils.metrics.DetMetrics object with attributes:\n",
            "\n",
            "ap_class_index: array([0])\n",
            "box: ultralytics.utils.metrics.Metric object\n",
            "confusion_matrix: <ultralytics.utils.metrics.ConfusionMatrix object at 0x7afb20cb6190>\n",
            "curves: ['Precision-Recall(B)', 'F1-Confidence(B)', 'Precision-Confidence(B)', 'Recall-Confidence(B)']\n",
            "curves_results: [[array([          0,    0.001001,    0.002002,    0.003003,    0.004004,    0.005005,    0.006006,    0.007007,    0.008008,    0.009009,     0.01001,    0.011011,    0.012012,    0.013013,    0.014014,    0.015015,    0.016016,    0.017017,    0.018018,    0.019019,     0.02002,    0.021021,    0.022022,    0.023023,\n",
            "          0.024024,    0.025025,    0.026026,    0.027027,    0.028028,    0.029029,     0.03003,    0.031031,    0.032032,    0.033033,    0.034034,    0.035035,    0.036036,    0.037037,    0.038038,    0.039039,     0.04004,    0.041041,    0.042042,    0.043043,    0.044044,    0.045045,    0.046046,    0.047047,\n",
            "          0.048048,    0.049049,     0.05005,    0.051051,    0.052052,    0.053053,    0.054054,    0.055055,    0.056056,    0.057057,    0.058058,    0.059059,     0.06006,    0.061061,    0.062062,    0.063063,    0.064064,    0.065065,    0.066066,    0.067067,    0.068068,    0.069069,     0.07007,    0.071071,\n",
            "          0.072072,    0.073073,    0.074074,    0.075075,    0.076076,    0.077077,    0.078078,    0.079079,     0.08008,    0.081081,    0.082082,    0.083083,    0.084084,    0.085085,    0.086086,    0.087087,    0.088088,    0.089089,     0.09009,    0.091091,    0.092092,    0.093093,    0.094094,    0.095095,\n",
            "          0.096096,    0.097097,    0.098098,    0.099099,      0.1001,      0.1011,      0.1021,      0.1031,      0.1041,     0.10511,     0.10611,     0.10711,     0.10811,     0.10911,     0.11011,     0.11111,     0.11211,     0.11311,     0.11411,     0.11512,     0.11612,     0.11712,     0.11812,     0.11912,\n",
            "           0.12012,     0.12112,     0.12212,     0.12312,     0.12412,     0.12513,     0.12613,     0.12713,     0.12813,     0.12913,     0.13013,     0.13113,     0.13213,     0.13313,     0.13413,     0.13514,     0.13614,     0.13714,     0.13814,     0.13914,     0.14014,     0.14114,     0.14214,     0.14314,\n",
            "           0.14414,     0.14515,     0.14615,     0.14715,     0.14815,     0.14915,     0.15015,     0.15115,     0.15215,     0.15315,     0.15415,     0.15516,     0.15616,     0.15716,     0.15816,     0.15916,     0.16016,     0.16116,     0.16216,     0.16316,     0.16416,     0.16517,     0.16617,     0.16717,\n",
            "           0.16817,     0.16917,     0.17017,     0.17117,     0.17217,     0.17317,     0.17417,     0.17518,     0.17618,     0.17718,     0.17818,     0.17918,     0.18018,     0.18118,     0.18218,     0.18318,     0.18418,     0.18519,     0.18619,     0.18719,     0.18819,     0.18919,     0.19019,     0.19119,\n",
            "           0.19219,     0.19319,     0.19419,      0.1952,      0.1962,      0.1972,      0.1982,      0.1992,      0.2002,      0.2012,      0.2022,      0.2032,      0.2042,     0.20521,     0.20621,     0.20721,     0.20821,     0.20921,     0.21021,     0.21121,     0.21221,     0.21321,     0.21421,     0.21522,\n",
            "           0.21622,     0.21722,     0.21822,     0.21922,     0.22022,     0.22122,     0.22222,     0.22322,     0.22422,     0.22523,     0.22623,     0.22723,     0.22823,     0.22923,     0.23023,     0.23123,     0.23223,     0.23323,     0.23423,     0.23524,     0.23624,     0.23724,     0.23824,     0.23924,\n",
            "           0.24024,     0.24124,     0.24224,     0.24324,     0.24424,     0.24525,     0.24625,     0.24725,     0.24825,     0.24925,     0.25025,     0.25125,     0.25225,     0.25325,     0.25425,     0.25526,     0.25626,     0.25726,     0.25826,     0.25926,     0.26026,     0.26126,     0.26226,     0.26326,\n",
            "           0.26426,     0.26527,     0.26627,     0.26727,     0.26827,     0.26927,     0.27027,     0.27127,     0.27227,     0.27327,     0.27427,     0.27528,     0.27628,     0.27728,     0.27828,     0.27928,     0.28028,     0.28128,     0.28228,     0.28328,     0.28428,     0.28529,     0.28629,     0.28729,\n",
            "           0.28829,     0.28929,     0.29029,     0.29129,     0.29229,     0.29329,     0.29429,      0.2953,      0.2963,      0.2973,      0.2983,      0.2993,      0.3003,      0.3013,      0.3023,      0.3033,      0.3043,     0.30531,     0.30631,     0.30731,     0.30831,     0.30931,     0.31031,     0.31131,\n",
            "           0.31231,     0.31331,     0.31431,     0.31532,     0.31632,     0.31732,     0.31832,     0.31932,     0.32032,     0.32132,     0.32232,     0.32332,     0.32432,     0.32533,     0.32633,     0.32733,     0.32833,     0.32933,     0.33033,     0.33133,     0.33233,     0.33333,     0.33433,     0.33534,\n",
            "           0.33634,     0.33734,     0.33834,     0.33934,     0.34034,     0.34134,     0.34234,     0.34334,     0.34434,     0.34535,     0.34635,     0.34735,     0.34835,     0.34935,     0.35035,     0.35135,     0.35235,     0.35335,     0.35435,     0.35536,     0.35636,     0.35736,     0.35836,     0.35936,\n",
            "           0.36036,     0.36136,     0.36236,     0.36336,     0.36436,     0.36537,     0.36637,     0.36737,     0.36837,     0.36937,     0.37037,     0.37137,     0.37237,     0.37337,     0.37437,     0.37538,     0.37638,     0.37738,     0.37838,     0.37938,     0.38038,     0.38138,     0.38238,     0.38338,\n",
            "           0.38438,     0.38539,     0.38639,     0.38739,     0.38839,     0.38939,     0.39039,     0.39139,     0.39239,     0.39339,     0.39439,      0.3954,      0.3964,      0.3974,      0.3984,      0.3994,      0.4004,      0.4014,      0.4024,      0.4034,      0.4044,     0.40541,     0.40641,     0.40741,\n",
            "           0.40841,     0.40941,     0.41041,     0.41141,     0.41241,     0.41341,     0.41441,     0.41542,     0.41642,     0.41742,     0.41842,     0.41942,     0.42042,     0.42142,     0.42242,     0.42342,     0.42442,     0.42543,     0.42643,     0.42743,     0.42843,     0.42943,     0.43043,     0.43143,\n",
            "           0.43243,     0.43343,     0.43443,     0.43544,     0.43644,     0.43744,     0.43844,     0.43944,     0.44044,     0.44144,     0.44244,     0.44344,     0.44444,     0.44545,     0.44645,     0.44745,     0.44845,     0.44945,     0.45045,     0.45145,     0.45245,     0.45345,     0.45445,     0.45546,\n",
            "           0.45646,     0.45746,     0.45846,     0.45946,     0.46046,     0.46146,     0.46246,     0.46346,     0.46446,     0.46547,     0.46647,     0.46747,     0.46847,     0.46947,     0.47047,     0.47147,     0.47247,     0.47347,     0.47447,     0.47548,     0.47648,     0.47748,     0.47848,     0.47948,\n",
            "           0.48048,     0.48148,     0.48248,     0.48348,     0.48448,     0.48549,     0.48649,     0.48749,     0.48849,     0.48949,     0.49049,     0.49149,     0.49249,     0.49349,     0.49449,      0.4955,      0.4965,      0.4975,      0.4985,      0.4995,      0.5005,      0.5015,      0.5025,      0.5035,\n",
            "            0.5045,     0.50551,     0.50651,     0.50751,     0.50851,     0.50951,     0.51051,     0.51151,     0.51251,     0.51351,     0.51451,     0.51552,     0.51652,     0.51752,     0.51852,     0.51952,     0.52052,     0.52152,     0.52252,     0.52352,     0.52452,     0.52553,     0.52653,     0.52753,\n",
            "           0.52853,     0.52953,     0.53053,     0.53153,     0.53253,     0.53353,     0.53453,     0.53554,     0.53654,     0.53754,     0.53854,     0.53954,     0.54054,     0.54154,     0.54254,     0.54354,     0.54454,     0.54555,     0.54655,     0.54755,     0.54855,     0.54955,     0.55055,     0.55155,\n",
            "           0.55255,     0.55355,     0.55455,     0.55556,     0.55656,     0.55756,     0.55856,     0.55956,     0.56056,     0.56156,     0.56256,     0.56356,     0.56456,     0.56557,     0.56657,     0.56757,     0.56857,     0.56957,     0.57057,     0.57157,     0.57257,     0.57357,     0.57457,     0.57558,\n",
            "           0.57658,     0.57758,     0.57858,     0.57958,     0.58058,     0.58158,     0.58258,     0.58358,     0.58458,     0.58559,     0.58659,     0.58759,     0.58859,     0.58959,     0.59059,     0.59159,     0.59259,     0.59359,     0.59459,      0.5956,      0.5966,      0.5976,      0.5986,      0.5996,\n",
            "            0.6006,      0.6016,      0.6026,      0.6036,      0.6046,     0.60561,     0.60661,     0.60761,     0.60861,     0.60961,     0.61061,     0.61161,     0.61261,     0.61361,     0.61461,     0.61562,     0.61662,     0.61762,     0.61862,     0.61962,     0.62062,     0.62162,     0.62262,     0.62362,\n",
            "           0.62462,     0.62563,     0.62663,     0.62763,     0.62863,     0.62963,     0.63063,     0.63163,     0.63263,     0.63363,     0.63463,     0.63564,     0.63664,     0.63764,     0.63864,     0.63964,     0.64064,     0.64164,     0.64264,     0.64364,     0.64464,     0.64565,     0.64665,     0.64765,\n",
            "           0.64865,     0.64965,     0.65065,     0.65165,     0.65265,     0.65365,     0.65465,     0.65566,     0.65666,     0.65766,     0.65866,     0.65966,     0.66066,     0.66166,     0.66266,     0.66366,     0.66466,     0.66567,     0.66667,     0.66767,     0.66867,     0.66967,     0.67067,     0.67167,\n",
            "           0.67267,     0.67367,     0.67467,     0.67568,     0.67668,     0.67768,     0.67868,     0.67968,     0.68068,     0.68168,     0.68268,     0.68368,     0.68468,     0.68569,     0.68669,     0.68769,     0.68869,     0.68969,     0.69069,     0.69169,     0.69269,     0.69369,     0.69469,      0.6957,\n",
            "            0.6967,      0.6977,      0.6987,      0.6997,      0.7007,      0.7017,      0.7027,      0.7037,      0.7047,     0.70571,     0.70671,     0.70771,     0.70871,     0.70971,     0.71071,     0.71171,     0.71271,     0.71371,     0.71471,     0.71572,     0.71672,     0.71772,     0.71872,     0.71972,\n",
            "           0.72072,     0.72172,     0.72272,     0.72372,     0.72472,     0.72573,     0.72673,     0.72773,     0.72873,     0.72973,     0.73073,     0.73173,     0.73273,     0.73373,     0.73473,     0.73574,     0.73674,     0.73774,     0.73874,     0.73974,     0.74074,     0.74174,     0.74274,     0.74374,\n",
            "           0.74474,     0.74575,     0.74675,     0.74775,     0.74875,     0.74975,     0.75075,     0.75175,     0.75275,     0.75375,     0.75475,     0.75576,     0.75676,     0.75776,     0.75876,     0.75976,     0.76076,     0.76176,     0.76276,     0.76376,     0.76476,     0.76577,     0.76677,     0.76777,\n",
            "           0.76877,     0.76977,     0.77077,     0.77177,     0.77277,     0.77377,     0.77477,     0.77578,     0.77678,     0.77778,     0.77878,     0.77978,     0.78078,     0.78178,     0.78278,     0.78378,     0.78478,     0.78579,     0.78679,     0.78779,     0.78879,     0.78979,     0.79079,     0.79179,\n",
            "           0.79279,     0.79379,     0.79479,      0.7958,      0.7968,      0.7978,      0.7988,      0.7998,      0.8008,      0.8018,      0.8028,      0.8038,      0.8048,     0.80581,     0.80681,     0.80781,     0.80881,     0.80981,     0.81081,     0.81181,     0.81281,     0.81381,     0.81481,     0.81582,\n",
            "           0.81682,     0.81782,     0.81882,     0.81982,     0.82082,     0.82182,     0.82282,     0.82382,     0.82482,     0.82583,     0.82683,     0.82783,     0.82883,     0.82983,     0.83083,     0.83183,     0.83283,     0.83383,     0.83483,     0.83584,     0.83684,     0.83784,     0.83884,     0.83984,\n",
            "           0.84084,     0.84184,     0.84284,     0.84384,     0.84484,     0.84585,     0.84685,     0.84785,     0.84885,     0.84985,     0.85085,     0.85185,     0.85285,     0.85385,     0.85485,     0.85586,     0.85686,     0.85786,     0.85886,     0.85986,     0.86086,     0.86186,     0.86286,     0.86386,\n",
            "           0.86486,     0.86587,     0.86687,     0.86787,     0.86887,     0.86987,     0.87087,     0.87187,     0.87287,     0.87387,     0.87487,     0.87588,     0.87688,     0.87788,     0.87888,     0.87988,     0.88088,     0.88188,     0.88288,     0.88388,     0.88488,     0.88589,     0.88689,     0.88789,\n",
            "           0.88889,     0.88989,     0.89089,     0.89189,     0.89289,     0.89389,     0.89489,      0.8959,      0.8969,      0.8979,      0.8989,      0.8999,      0.9009,      0.9019,      0.9029,      0.9039,      0.9049,     0.90591,     0.90691,     0.90791,     0.90891,     0.90991,     0.91091,     0.91191,\n",
            "           0.91291,     0.91391,     0.91491,     0.91592,     0.91692,     0.91792,     0.91892,     0.91992,     0.92092,     0.92192,     0.92292,     0.92392,     0.92492,     0.92593,     0.92693,     0.92793,     0.92893,     0.92993,     0.93093,     0.93193,     0.93293,     0.93393,     0.93493,     0.93594,\n",
            "           0.93694,     0.93794,     0.93894,     0.93994,     0.94094,     0.94194,     0.94294,     0.94394,     0.94494,     0.94595,     0.94695,     0.94795,     0.94895,     0.94995,     0.95095,     0.95195,     0.95295,     0.95395,     0.95495,     0.95596,     0.95696,     0.95796,     0.95896,     0.95996,\n",
            "           0.96096,     0.96196,     0.96296,     0.96396,     0.96496,     0.96597,     0.96697,     0.96797,     0.96897,     0.96997,     0.97097,     0.97197,     0.97297,     0.97397,     0.97497,     0.97598,     0.97698,     0.97798,     0.97898,     0.97998,     0.98098,     0.98198,     0.98298,     0.98398,\n",
            "           0.98498,     0.98599,     0.98699,     0.98799,     0.98899,     0.98999,     0.99099,     0.99199,     0.99299,     0.99399,     0.99499,       0.996,       0.997,       0.998,       0.999,           1]), array([[          1,           1,           1,           1,           1,           1,           1,           1,           1,           1,           1,           1,           1,           1,           1,           1,           1,           1,           1,           1,           1,           1,           1,\n",
            "                  1,           1,           1,           1,           1,           1,           1,           1,           1,           1,           1,           1,           1,           1,           1,           1,           1,           1,           1,           1,           1,           1,           1,\n",
            "                  1,           1,           1,           1,           1,           1,           1,           1,           1,           1,           1,           1,           1,           1,           1,           1,           1,           1,           1,           1,           1,           1,           1,\n",
            "                  1,           1,           1,           1,           1,           1,           1,           1,           1,           1,           1,           1,           1,           1,           1,           1,           1,           1,           1,           1,           1,           1,           1,\n",
            "                  1,           1,           1,           1,           1,           1,           1,           1,           1,           1,           1,           1,           1,           1,           1,           1,           1,           1,           1,           1,           1,           1,           1,\n",
            "                  1,           1,           1,           1,           1,           1,           1,           1,           1,           1,           1,           1,           1,           1,           1,           1,           1,           1,           1,           1,           1,           1,           1,\n",
            "                  1,           1,           1,           1,           1,           1,           1,           1,           1,           1,           1,           1,           1,           1,           1,           1,           1,           1,           1,           1,           1,           1,           1,\n",
            "                  1,           1,           1,           1,           1,           1,           1,           1,           1,           1,           1,           1,           1,           1,           1,           1,           1,           1,           1,           1,           1,           1,           1,\n",
            "                  1,           1,           1,           1,           1,           1,           1,           1,           1,           1,           1,           1,           1,           1,           1,           1,           1,           1,           1,           1,           1,           1,           1,\n",
            "                  1,           1,           1,           1,           1,           1,           1,           1,           1,           1,           1,           1,           1,           1,           1,           1,           1,           1,           1,           1,           1,           1,           1,\n",
            "                  1,           1,           1,           1,           1,           1,           1,           1,           1,           1,           1,           1,           1,           1,           1,           1,           1,           1,           1,           1,           1,           1,           1,\n",
            "                  1,           1,           1,           1,           1,           1,           1,           1,           1,           1,           1,           1,           1,           1,           1,           1,           1,           1,           1,           1,           1,           1,           1,\n",
            "                  1,           1,           1,           1,           1,           1,           1,           1,           1,           1,           1,           1,           1,           1,           1,           1,           1,           1,           1,           1,           1,           1,           1,\n",
            "                  1,           1,           1,           1,           1,           1,           1,           1,           1,           1,           1,           1,           1,           1,           1,           1,           1,           1,           1,           1,           1,           1,           1,\n",
            "                  1,           1,           1,           1,           1,           1,           1,           1,           1,           1,           1,           1,           1,           1,           1,           1,           1,           1,           1,           1,           1,           1,           1,\n",
            "                  1,           1,           1,           1,           1,           1,           1,           1,           1,           1,           1,           1,           1,           1,           1,           1,           1,           1,           1,           1,           1,           1,           1,\n",
            "                  1,           1,           1,           1,           1,           1,           1,           1,           1,           1,           1,           1,           1,           1,           1,           1,           1,           1,           1,           1,           1,           1,           1,\n",
            "                  1,           1,           1,           1,           1,           1,           1,           1,           1,           1,           1,           1,           1,           1,           1,           1,           1,           1,           1,           1,           1,           1,           1,\n",
            "                  1,           1,           1,           1,           1,           1,           1,           1,           1,     0.99788,     0.99788,     0.99788,     0.99788,     0.99788,     0.99788,     0.99788,     0.99788,     0.99788,     0.99788,     0.99788,     0.99788,     0.99788,     0.99788,\n",
            "            0.99788,     0.99788,     0.99788,     0.99788,     0.99788,     0.99788,     0.99788,     0.99788,     0.99788,     0.99788,     0.99788,     0.99788,     0.99788,     0.99788,     0.99788,     0.99788,     0.99788,     0.99788,     0.99788,     0.99788,     0.99788,     0.99788,     0.99788,\n",
            "            0.99788,     0.99788,     0.99788,     0.99788,     0.99788,     0.99788,     0.99788,     0.99788,     0.99788,     0.99788,     0.99788,     0.99788,     0.99788,     0.99788,     0.99788,     0.99788,     0.99788,     0.99788,     0.99788,     0.99788,     0.99788,     0.99788,     0.99788,\n",
            "            0.99788,     0.99788,     0.99788,     0.99788,     0.99788,     0.99788,     0.99788,     0.99788,     0.99788,     0.99788,     0.99788,     0.99788,     0.99788,     0.99788,     0.99788,     0.99788,     0.99788,     0.99788,     0.99788,     0.99788,     0.99612,     0.99612,     0.99612,\n",
            "            0.99612,     0.99612,     0.99612,     0.99612,     0.99612,     0.99612,     0.99612,     0.99612,     0.99612,     0.99612,     0.99612,     0.99612,     0.99612,     0.99612,     0.99612,     0.99612,     0.99612,     0.99612,     0.99612,     0.99612,     0.99612,     0.99612,     0.99612,\n",
            "            0.99612,     0.99612,     0.99612,     0.99612,     0.99612,     0.99612,     0.99612,     0.99612,     0.99612,     0.99612,     0.99612,     0.99612,     0.99612,     0.99612,     0.99612,     0.99612,     0.99612,     0.99612,     0.99466,     0.99466,     0.99466,     0.99466,     0.99466,\n",
            "            0.99466,     0.99466,     0.99466,     0.99466,     0.99466,     0.99466,     0.99466,     0.99466,     0.99466,     0.99466,     0.99466,     0.99466,     0.99466,     0.99466,     0.99466,     0.99466,     0.99466,     0.99466,     0.99466,     0.99466,     0.99466,     0.99466,     0.99466,\n",
            "            0.99466,     0.99466,     0.99466,     0.99466,     0.99466,     0.99466,     0.99466,     0.99466,     0.99466,     0.99466,     0.99466,     0.99466,     0.99466,     0.99466,     0.99466,     0.99466,     0.99466,     0.99466,     0.99466,     0.99466,     0.99466,      0.9935,      0.9935,\n",
            "             0.9935,      0.9935,      0.9935,      0.9935,      0.9935,      0.9935,      0.9935,      0.9935,      0.9935,      0.9935,      0.9935,      0.9935,      0.9935,      0.9935,      0.9935,      0.9935,      0.9935,      0.9935,      0.9935,      0.9935,      0.9935,      0.9935,      0.9935,\n",
            "             0.9935,      0.9935,      0.9935,      0.9935,      0.9935,      0.9935,      0.9935,      0.9935,      0.9935,      0.9935,      0.9935,      0.9935,      0.9935,      0.9935,      0.9935,      0.9935,      0.9935,      0.9935,      0.9935,      0.9935,      0.9935,      0.9935,      0.9935,\n",
            "             0.9935,      0.9935,      0.9935,      0.9935,      0.9935,      0.9935,      0.9935,      0.9935,     0.99194,     0.99194,     0.99194,     0.99194,     0.99078,     0.99078,     0.99078,     0.99078,     0.99078,     0.99078,     0.99078,     0.99078,     0.99078,     0.99078,     0.99078,\n",
            "            0.99078,     0.99078,     0.99078,     0.99078,     0.99078,     0.99078,     0.99078,     0.99078,     0.99078,     0.99078,     0.99078,     0.99078,     0.99078,     0.99078,     0.99078,     0.99078,     0.99078,     0.99078,     0.99078,     0.99078,     0.99078,     0.98946,     0.98946,\n",
            "            0.98946,     0.98946,     0.98946,     0.98946,     0.98946,     0.98946,     0.98946,     0.98946,     0.98946,     0.98946,     0.98946,     0.98811,     0.98811,     0.98811,     0.98811,     0.98811,     0.98811,     0.98811,     0.98811,     0.98811,     0.98673,     0.98673,     0.98673,\n",
            "            0.98673,     0.98571,     0.98571,     0.98571,     0.98571,     0.98571,     0.98571,     0.98571,     0.98571,     0.98571,     0.98571,     0.98571,     0.98571,     0.98571,     0.98571,     0.98571,     0.98571,     0.98571,     0.98571,     0.98571,     0.98571,     0.98571,     0.98571,\n",
            "            0.98442,     0.98442,     0.98442,     0.98442,     0.98442,     0.98356,     0.98356,     0.98356,     0.98356,     0.98356,     0.98356,     0.98356,     0.98356,     0.98356,     0.98356,     0.98356,     0.98356,     0.98356,     0.98356,     0.98356,     0.98356,     0.98356,     0.98356,\n",
            "            0.98356,     0.98356,     0.98356,     0.98356,     0.98356,     0.98356,     0.98356,     0.98229,     0.98229,     0.98229,     0.98106,     0.98106,     0.98106,     0.98106,     0.97898,     0.97898,     0.97898,     0.97898,     0.97898,     0.97898,     0.97898,     0.97898,     0.97898,\n",
            "            0.97898,     0.97898,     0.97898,     0.97898,     0.97898,     0.97898,     0.97898,     0.97898,     0.97898,     0.97898,     0.97898,     0.97898,     0.97898,     0.97784,     0.97784,     0.97784,     0.97784,     0.97784,     0.97539,     0.97539,     0.97539,     0.97436,     0.97436,\n",
            "            0.97436,     0.97436,     0.97436,     0.97436,     0.97436,     0.97436,     0.97315,     0.97208,     0.97208,     0.97208,     0.97208,     0.97208,     0.97103,     0.97103,     0.97103,     0.97103,     0.97103,     0.97103,     0.97007,     0.97007,     0.97007,     0.97007,     0.97007,\n",
            "            0.97007,     0.97007,     0.96902,     0.96902,     0.96902,     0.96902,     0.96433,     0.96433,     0.96319,     0.96088,     0.96088,     0.95976,     0.95869,     0.95869,     0.95773,     0.95773,     0.95773,     0.95773,     0.95579,     0.95579,     0.95579,     0.95579,     0.95579,\n",
            "            0.95579,     0.95579,     0.95266,     0.95266,     0.95266,     0.95266,     0.95266,     0.95266,     0.95182,     0.95182,     0.95182,     0.95182,     0.95182,     0.95076,     0.94977,     0.94977,     0.94872,      0.9467,      0.9467,      0.9467,      0.9467,     0.94566,     0.94361,\n",
            "            0.94361,     0.94266,     0.94266,     0.94178,     0.94178,     0.94178,     0.94077,     0.93984,     0.93984,     0.93905,     0.93905,     0.93905,     0.93905,     0.93905,     0.93813,     0.93813,     0.93715,      0.9323,      0.9323,      0.9323,      0.9323,      0.9323,     0.93142,\n",
            "            0.93142,     0.93046,     0.92952,     0.92873,     0.92873,     0.92873,     0.92873,     0.92633,     0.92633,     0.92633,     0.92633,     0.92633,     0.92633,     0.92633,     0.92633,     0.92449,     0.92449,      0.9206,     0.91979,     0.91979,     0.91889,       0.918,       0.918,\n",
            "            0.91341,     0.91341,     0.91341,     0.91062,     0.90909,     0.90909,     0.90909,     0.90909,     0.90824,     0.90739,     0.90664,     0.90664,     0.90309,     0.90309,     0.90236,     0.90236,     0.90236,     0.90072,     0.90072,     0.89827,     0.89827,     0.89827,     0.89474,\n",
            "            0.89394,     0.89056,     0.89056,     0.88889,     0.88811,     0.88745,     0.88745,      0.8858,      0.8858,     0.88503,     0.87992,     0.87941,     0.87941,     0.87941,     0.87707,     0.87707,     0.87634,     0.87053,     0.87007,     0.87007,     0.87007,     0.85391,     0.85391,\n",
            "            0.85325,     0.85325,     0.84701,     0.84401,     0.84181,     0.83963,      0.8344,     0.83091,     0.83091,     0.83031,     0.82821,      0.8239,     0.82332,       0.822,     0.81996,     0.81721,     0.79758,     0.79758,     0.79296,     0.78974,      0.7879,     0.77231,     0.76296,\n",
            "            0.75447,     0.73439,     0.71538,     0.71232,     0.66052,     0.64434,     0.58229,     0.56461,     0.54042,     0.53789,           0]]), 'Recall', 'Precision'], [array([          0,    0.001001,    0.002002,    0.003003,    0.004004,    0.005005,    0.006006,    0.007007,    0.008008,    0.009009,     0.01001,    0.011011,    0.012012,    0.013013,    0.014014,    0.015015,    0.016016,    0.017017,    0.018018,    0.019019,     0.02002,    0.021021,    0.022022,    0.023023,\n",
            "          0.024024,    0.025025,    0.026026,    0.027027,    0.028028,    0.029029,     0.03003,    0.031031,    0.032032,    0.033033,    0.034034,    0.035035,    0.036036,    0.037037,    0.038038,    0.039039,     0.04004,    0.041041,    0.042042,    0.043043,    0.044044,    0.045045,    0.046046,    0.047047,\n",
            "          0.048048,    0.049049,     0.05005,    0.051051,    0.052052,    0.053053,    0.054054,    0.055055,    0.056056,    0.057057,    0.058058,    0.059059,     0.06006,    0.061061,    0.062062,    0.063063,    0.064064,    0.065065,    0.066066,    0.067067,    0.068068,    0.069069,     0.07007,    0.071071,\n",
            "          0.072072,    0.073073,    0.074074,    0.075075,    0.076076,    0.077077,    0.078078,    0.079079,     0.08008,    0.081081,    0.082082,    0.083083,    0.084084,    0.085085,    0.086086,    0.087087,    0.088088,    0.089089,     0.09009,    0.091091,    0.092092,    0.093093,    0.094094,    0.095095,\n",
            "          0.096096,    0.097097,    0.098098,    0.099099,      0.1001,      0.1011,      0.1021,      0.1031,      0.1041,     0.10511,     0.10611,     0.10711,     0.10811,     0.10911,     0.11011,     0.11111,     0.11211,     0.11311,     0.11411,     0.11512,     0.11612,     0.11712,     0.11812,     0.11912,\n",
            "           0.12012,     0.12112,     0.12212,     0.12312,     0.12412,     0.12513,     0.12613,     0.12713,     0.12813,     0.12913,     0.13013,     0.13113,     0.13213,     0.13313,     0.13413,     0.13514,     0.13614,     0.13714,     0.13814,     0.13914,     0.14014,     0.14114,     0.14214,     0.14314,\n",
            "           0.14414,     0.14515,     0.14615,     0.14715,     0.14815,     0.14915,     0.15015,     0.15115,     0.15215,     0.15315,     0.15415,     0.15516,     0.15616,     0.15716,     0.15816,     0.15916,     0.16016,     0.16116,     0.16216,     0.16316,     0.16416,     0.16517,     0.16617,     0.16717,\n",
            "           0.16817,     0.16917,     0.17017,     0.17117,     0.17217,     0.17317,     0.17417,     0.17518,     0.17618,     0.17718,     0.17818,     0.17918,     0.18018,     0.18118,     0.18218,     0.18318,     0.18418,     0.18519,     0.18619,     0.18719,     0.18819,     0.18919,     0.19019,     0.19119,\n",
            "           0.19219,     0.19319,     0.19419,      0.1952,      0.1962,      0.1972,      0.1982,      0.1992,      0.2002,      0.2012,      0.2022,      0.2032,      0.2042,     0.20521,     0.20621,     0.20721,     0.20821,     0.20921,     0.21021,     0.21121,     0.21221,     0.21321,     0.21421,     0.21522,\n",
            "           0.21622,     0.21722,     0.21822,     0.21922,     0.22022,     0.22122,     0.22222,     0.22322,     0.22422,     0.22523,     0.22623,     0.22723,     0.22823,     0.22923,     0.23023,     0.23123,     0.23223,     0.23323,     0.23423,     0.23524,     0.23624,     0.23724,     0.23824,     0.23924,\n",
            "           0.24024,     0.24124,     0.24224,     0.24324,     0.24424,     0.24525,     0.24625,     0.24725,     0.24825,     0.24925,     0.25025,     0.25125,     0.25225,     0.25325,     0.25425,     0.25526,     0.25626,     0.25726,     0.25826,     0.25926,     0.26026,     0.26126,     0.26226,     0.26326,\n",
            "           0.26426,     0.26527,     0.26627,     0.26727,     0.26827,     0.26927,     0.27027,     0.27127,     0.27227,     0.27327,     0.27427,     0.27528,     0.27628,     0.27728,     0.27828,     0.27928,     0.28028,     0.28128,     0.28228,     0.28328,     0.28428,     0.28529,     0.28629,     0.28729,\n",
            "           0.28829,     0.28929,     0.29029,     0.29129,     0.29229,     0.29329,     0.29429,      0.2953,      0.2963,      0.2973,      0.2983,      0.2993,      0.3003,      0.3013,      0.3023,      0.3033,      0.3043,     0.30531,     0.30631,     0.30731,     0.30831,     0.30931,     0.31031,     0.31131,\n",
            "           0.31231,     0.31331,     0.31431,     0.31532,     0.31632,     0.31732,     0.31832,     0.31932,     0.32032,     0.32132,     0.32232,     0.32332,     0.32432,     0.32533,     0.32633,     0.32733,     0.32833,     0.32933,     0.33033,     0.33133,     0.33233,     0.33333,     0.33433,     0.33534,\n",
            "           0.33634,     0.33734,     0.33834,     0.33934,     0.34034,     0.34134,     0.34234,     0.34334,     0.34434,     0.34535,     0.34635,     0.34735,     0.34835,     0.34935,     0.35035,     0.35135,     0.35235,     0.35335,     0.35435,     0.35536,     0.35636,     0.35736,     0.35836,     0.35936,\n",
            "           0.36036,     0.36136,     0.36236,     0.36336,     0.36436,     0.36537,     0.36637,     0.36737,     0.36837,     0.36937,     0.37037,     0.37137,     0.37237,     0.37337,     0.37437,     0.37538,     0.37638,     0.37738,     0.37838,     0.37938,     0.38038,     0.38138,     0.38238,     0.38338,\n",
            "           0.38438,     0.38539,     0.38639,     0.38739,     0.38839,     0.38939,     0.39039,     0.39139,     0.39239,     0.39339,     0.39439,      0.3954,      0.3964,      0.3974,      0.3984,      0.3994,      0.4004,      0.4014,      0.4024,      0.4034,      0.4044,     0.40541,     0.40641,     0.40741,\n",
            "           0.40841,     0.40941,     0.41041,     0.41141,     0.41241,     0.41341,     0.41441,     0.41542,     0.41642,     0.41742,     0.41842,     0.41942,     0.42042,     0.42142,     0.42242,     0.42342,     0.42442,     0.42543,     0.42643,     0.42743,     0.42843,     0.42943,     0.43043,     0.43143,\n",
            "           0.43243,     0.43343,     0.43443,     0.43544,     0.43644,     0.43744,     0.43844,     0.43944,     0.44044,     0.44144,     0.44244,     0.44344,     0.44444,     0.44545,     0.44645,     0.44745,     0.44845,     0.44945,     0.45045,     0.45145,     0.45245,     0.45345,     0.45445,     0.45546,\n",
            "           0.45646,     0.45746,     0.45846,     0.45946,     0.46046,     0.46146,     0.46246,     0.46346,     0.46446,     0.46547,     0.46647,     0.46747,     0.46847,     0.46947,     0.47047,     0.47147,     0.47247,     0.47347,     0.47447,     0.47548,     0.47648,     0.47748,     0.47848,     0.47948,\n",
            "           0.48048,     0.48148,     0.48248,     0.48348,     0.48448,     0.48549,     0.48649,     0.48749,     0.48849,     0.48949,     0.49049,     0.49149,     0.49249,     0.49349,     0.49449,      0.4955,      0.4965,      0.4975,      0.4985,      0.4995,      0.5005,      0.5015,      0.5025,      0.5035,\n",
            "            0.5045,     0.50551,     0.50651,     0.50751,     0.50851,     0.50951,     0.51051,     0.51151,     0.51251,     0.51351,     0.51451,     0.51552,     0.51652,     0.51752,     0.51852,     0.51952,     0.52052,     0.52152,     0.52252,     0.52352,     0.52452,     0.52553,     0.52653,     0.52753,\n",
            "           0.52853,     0.52953,     0.53053,     0.53153,     0.53253,     0.53353,     0.53453,     0.53554,     0.53654,     0.53754,     0.53854,     0.53954,     0.54054,     0.54154,     0.54254,     0.54354,     0.54454,     0.54555,     0.54655,     0.54755,     0.54855,     0.54955,     0.55055,     0.55155,\n",
            "           0.55255,     0.55355,     0.55455,     0.55556,     0.55656,     0.55756,     0.55856,     0.55956,     0.56056,     0.56156,     0.56256,     0.56356,     0.56456,     0.56557,     0.56657,     0.56757,     0.56857,     0.56957,     0.57057,     0.57157,     0.57257,     0.57357,     0.57457,     0.57558,\n",
            "           0.57658,     0.57758,     0.57858,     0.57958,     0.58058,     0.58158,     0.58258,     0.58358,     0.58458,     0.58559,     0.58659,     0.58759,     0.58859,     0.58959,     0.59059,     0.59159,     0.59259,     0.59359,     0.59459,      0.5956,      0.5966,      0.5976,      0.5986,      0.5996,\n",
            "            0.6006,      0.6016,      0.6026,      0.6036,      0.6046,     0.60561,     0.60661,     0.60761,     0.60861,     0.60961,     0.61061,     0.61161,     0.61261,     0.61361,     0.61461,     0.61562,     0.61662,     0.61762,     0.61862,     0.61962,     0.62062,     0.62162,     0.62262,     0.62362,\n",
            "           0.62462,     0.62563,     0.62663,     0.62763,     0.62863,     0.62963,     0.63063,     0.63163,     0.63263,     0.63363,     0.63463,     0.63564,     0.63664,     0.63764,     0.63864,     0.63964,     0.64064,     0.64164,     0.64264,     0.64364,     0.64464,     0.64565,     0.64665,     0.64765,\n",
            "           0.64865,     0.64965,     0.65065,     0.65165,     0.65265,     0.65365,     0.65465,     0.65566,     0.65666,     0.65766,     0.65866,     0.65966,     0.66066,     0.66166,     0.66266,     0.66366,     0.66466,     0.66567,     0.66667,     0.66767,     0.66867,     0.66967,     0.67067,     0.67167,\n",
            "           0.67267,     0.67367,     0.67467,     0.67568,     0.67668,     0.67768,     0.67868,     0.67968,     0.68068,     0.68168,     0.68268,     0.68368,     0.68468,     0.68569,     0.68669,     0.68769,     0.68869,     0.68969,     0.69069,     0.69169,     0.69269,     0.69369,     0.69469,      0.6957,\n",
            "            0.6967,      0.6977,      0.6987,      0.6997,      0.7007,      0.7017,      0.7027,      0.7037,      0.7047,     0.70571,     0.70671,     0.70771,     0.70871,     0.70971,     0.71071,     0.71171,     0.71271,     0.71371,     0.71471,     0.71572,     0.71672,     0.71772,     0.71872,     0.71972,\n",
            "           0.72072,     0.72172,     0.72272,     0.72372,     0.72472,     0.72573,     0.72673,     0.72773,     0.72873,     0.72973,     0.73073,     0.73173,     0.73273,     0.73373,     0.73473,     0.73574,     0.73674,     0.73774,     0.73874,     0.73974,     0.74074,     0.74174,     0.74274,     0.74374,\n",
            "           0.74474,     0.74575,     0.74675,     0.74775,     0.74875,     0.74975,     0.75075,     0.75175,     0.75275,     0.75375,     0.75475,     0.75576,     0.75676,     0.75776,     0.75876,     0.75976,     0.76076,     0.76176,     0.76276,     0.76376,     0.76476,     0.76577,     0.76677,     0.76777,\n",
            "           0.76877,     0.76977,     0.77077,     0.77177,     0.77277,     0.77377,     0.77477,     0.77578,     0.77678,     0.77778,     0.77878,     0.77978,     0.78078,     0.78178,     0.78278,     0.78378,     0.78478,     0.78579,     0.78679,     0.78779,     0.78879,     0.78979,     0.79079,     0.79179,\n",
            "           0.79279,     0.79379,     0.79479,      0.7958,      0.7968,      0.7978,      0.7988,      0.7998,      0.8008,      0.8018,      0.8028,      0.8038,      0.8048,     0.80581,     0.80681,     0.80781,     0.80881,     0.80981,     0.81081,     0.81181,     0.81281,     0.81381,     0.81481,     0.81582,\n",
            "           0.81682,     0.81782,     0.81882,     0.81982,     0.82082,     0.82182,     0.82282,     0.82382,     0.82482,     0.82583,     0.82683,     0.82783,     0.82883,     0.82983,     0.83083,     0.83183,     0.83283,     0.83383,     0.83483,     0.83584,     0.83684,     0.83784,     0.83884,     0.83984,\n",
            "           0.84084,     0.84184,     0.84284,     0.84384,     0.84484,     0.84585,     0.84685,     0.84785,     0.84885,     0.84985,     0.85085,     0.85185,     0.85285,     0.85385,     0.85485,     0.85586,     0.85686,     0.85786,     0.85886,     0.85986,     0.86086,     0.86186,     0.86286,     0.86386,\n",
            "           0.86486,     0.86587,     0.86687,     0.86787,     0.86887,     0.86987,     0.87087,     0.87187,     0.87287,     0.87387,     0.87487,     0.87588,     0.87688,     0.87788,     0.87888,     0.87988,     0.88088,     0.88188,     0.88288,     0.88388,     0.88488,     0.88589,     0.88689,     0.88789,\n",
            "           0.88889,     0.88989,     0.89089,     0.89189,     0.89289,     0.89389,     0.89489,      0.8959,      0.8969,      0.8979,      0.8989,      0.8999,      0.9009,      0.9019,      0.9029,      0.9039,      0.9049,     0.90591,     0.90691,     0.90791,     0.90891,     0.90991,     0.91091,     0.91191,\n",
            "           0.91291,     0.91391,     0.91491,     0.91592,     0.91692,     0.91792,     0.91892,     0.91992,     0.92092,     0.92192,     0.92292,     0.92392,     0.92492,     0.92593,     0.92693,     0.92793,     0.92893,     0.92993,     0.93093,     0.93193,     0.93293,     0.93393,     0.93493,     0.93594,\n",
            "           0.93694,     0.93794,     0.93894,     0.93994,     0.94094,     0.94194,     0.94294,     0.94394,     0.94494,     0.94595,     0.94695,     0.94795,     0.94895,     0.94995,     0.95095,     0.95195,     0.95295,     0.95395,     0.95495,     0.95596,     0.95696,     0.95796,     0.95896,     0.95996,\n",
            "           0.96096,     0.96196,     0.96296,     0.96396,     0.96496,     0.96597,     0.96697,     0.96797,     0.96897,     0.96997,     0.97097,     0.97197,     0.97297,     0.97397,     0.97497,     0.97598,     0.97698,     0.97798,     0.97898,     0.97998,     0.98098,     0.98198,     0.98298,     0.98398,\n",
            "           0.98498,     0.98599,     0.98699,     0.98799,     0.98899,     0.98999,     0.99099,     0.99199,     0.99299,     0.99399,     0.99499,       0.996,       0.997,       0.998,       0.999,           1]), array([[    0.37072,     0.37144,     0.51746,     0.58255,     0.61993,     0.64578,     0.66649,     0.67774,     0.68994,     0.69883,       0.705,     0.71275,     0.72222,     0.72827,     0.73298,      0.7364,     0.74076,     0.74512,     0.75001,     0.75293,     0.75753,      0.7608,     0.76321,\n",
            "            0.76646,     0.76876,     0.77126,     0.77284,     0.77532,     0.77867,     0.78128,      0.7819,     0.78358,     0.78467,     0.78677,     0.78951,     0.79144,      0.7935,     0.79505,     0.79645,     0.79852,     0.80025,     0.80198,     0.80268,     0.80364,      0.8056,     0.80758,\n",
            "             0.8082,     0.80909,     0.80966,     0.81004,     0.81116,     0.81186,      0.8126,     0.81333,     0.81395,      0.8143,      0.8145,     0.81507,     0.81553,     0.81766,      0.8192,     0.81959,     0.82076,     0.82134,     0.82194,     0.82259,     0.82333,     0.82449,     0.82636,\n",
            "            0.82779,     0.82808,     0.82824,      0.8286,     0.82938,     0.82979,     0.83053,     0.83131,     0.83103,     0.83179,     0.83241,     0.83279,       0.834,     0.83494,     0.83683,     0.83763,     0.83801,     0.83908,     0.83946,     0.83973,     0.84003,     0.84118,     0.84163,\n",
            "            0.84245,     0.84299,     0.84364,     0.84335,     0.84445,     0.84493,     0.84513,      0.8468,     0.84741,     0.84843,     0.84956,     0.85061,     0.85181,     0.85223,     0.85249,     0.85303,     0.85324,     0.85379,     0.85518,     0.85545,     0.85562,     0.85591,     0.85632,\n",
            "            0.85597,     0.85679,     0.85694,      0.8571,     0.85792,     0.85814,     0.85835,      0.8585,     0.85866,     0.85932,     0.85982,     0.86039,     0.86094,     0.86122,      0.8614,     0.86103,     0.86145,     0.86156,     0.86166,     0.86176,     0.86204,     0.86235,     0.86263,\n",
            "            0.86301,      0.8631,     0.86319,     0.86328,     0.86337,     0.86375,     0.86506,     0.86526,     0.86547,     0.86579,     0.86636,     0.86654,     0.86672,     0.86688,     0.86704,     0.86652,     0.86667,     0.86683,      0.8676,     0.86865,     0.86891,     0.86905,     0.86917,\n",
            "            0.86928,     0.86946,     0.86976,     0.87016,     0.87109,     0.87143,     0.87165,     0.87186,       0.872,     0.87215,     0.87254,     0.87346,     0.87356,     0.87366,     0.87375,     0.87385,     0.87434,     0.87443,     0.87453,     0.87462,     0.87477,     0.87523,     0.87549,\n",
            "             0.8757,     0.87591,     0.87615,     0.87637,     0.87654,     0.87703,     0.87678,     0.87675,     0.87739,     0.87755,     0.87772,     0.87852,     0.87839,     0.87813,     0.87962,     0.88095,     0.88053,     0.88128,     0.88193,      0.8822,     0.88244,     0.88288,     0.88368,\n",
            "            0.88411,     0.88456,     0.88504,     0.88582,     0.88633,     0.88684,      0.8872,      0.8875,      0.8878,     0.88817,     0.88842,     0.88867,      0.8889,     0.88957,      0.8899,     0.88997,     0.89003,      0.8901,     0.89017,     0.89023,     0.89059,     0.89115,     0.89147,\n",
            "            0.89226,     0.89193,     0.89217,     0.89241,     0.89266,     0.89285,       0.893,     0.89315,     0.89312,      0.8933,     0.89351,     0.89373,     0.89395,     0.89411,     0.89426,     0.89439,      0.8942,     0.89401,     0.89411,     0.89469,     0.89448,     0.89427,     0.89463,\n",
            "            0.89452,     0.89441,     0.89429,     0.89418,     0.89417,     0.89444,     0.89508,     0.89531,     0.89553,     0.89574,      0.8959,       0.896,      0.8961,      0.8962,     0.89652,     0.89649,      0.8962,     0.89716,     0.89733,     0.89698,     0.89717,     0.89739,     0.89669,\n",
            "            0.89636,     0.89643,     0.89656,     0.89669,     0.89703,     0.89733,     0.89752,     0.89785,     0.89819,     0.89838,     0.89848,     0.89831,     0.89815,     0.89799,     0.89812,     0.89826,      0.8984,     0.89877,     0.89937,     0.89954,     0.89971,     0.89996,     0.90023,\n",
            "            0.90065,     0.90094,     0.90103,     0.90092,     0.90081,     0.90069,     0.90058,     0.90085,     0.90119,      0.9016,     0.90173,     0.90154,     0.90134,     0.90157,     0.90217,     0.90238,     0.90263,     0.90271,      0.9028,     0.90288,     0.90296,     0.90305,     0.90315,\n",
            "            0.90325,     0.90335,     0.90345,     0.90392,     0.90352,     0.90375,     0.90389,     0.90397,     0.90405,     0.90413,     0.90421,     0.90428,     0.90474,     0.90522,     0.90566,     0.90579,     0.90592,     0.90605,     0.90626,     0.90652,     0.90674,     0.90695,     0.90653,\n",
            "             0.9067,     0.90687,     0.90612,     0.90581,       0.906,      0.9062,      0.9064,     0.90661,     0.90721,     0.90729,     0.90738,     0.90746,     0.90754,     0.90762,     0.90769,     0.90775,     0.90782,     0.90788,     0.90795,     0.90802,     0.90808,     0.90838,     0.90882,\n",
            "            0.90958,     0.90989,     0.91015,     0.91038,     0.91047,     0.91055,     0.91063,     0.91071,     0.91079,     0.91094,     0.91115,     0.91192,     0.91235,      0.9126,     0.91278,     0.91295,     0.91311,      0.9141,      0.9147,     0.91492,     0.91418,     0.91382,     0.91365,\n",
            "            0.91348,     0.91335,     0.91348,     0.91362,     0.91376,     0.91373,     0.91364,     0.91355,     0.91346,     0.91337,     0.91328,     0.91458,     0.91528,     0.91548,     0.91564,     0.91578,     0.91592,     0.91606,     0.91622,     0.91638,     0.91644,     0.91618,     0.91601,\n",
            "            0.91634,     0.91605,     0.91562,     0.91584,     0.91595,     0.91607,     0.91619,     0.91654,     0.91613,     0.91589,     0.91566,     0.91529,      0.9152,     0.91548,     0.91524,       0.915,     0.91513,     0.91534,     0.91553,     0.91571,     0.91589,     0.91594,     0.91599,\n",
            "            0.91604,     0.91609,     0.91614,     0.91618,     0.91623,     0.91628,     0.91633,     0.91668,     0.91696,      0.9171,     0.91724,     0.91736,     0.91747,     0.91758,      0.9177,     0.91767,     0.91723,     0.91759,     0.91752,     0.91728,     0.91738,     0.91803,      0.9179,\n",
            "            0.91769,     0.91703,     0.91728,      0.9173,     0.91693,     0.91703,     0.91731,     0.91744,     0.91757,      0.9177,     0.91694,      0.9169,      0.9177,     0.91806,     0.91814,     0.91822,     0.91829,     0.91837,     0.91845,     0.91851,     0.91813,     0.91792,     0.91815,\n",
            "             0.9184,     0.91873,      0.9189,     0.91899,     0.91908,     0.91917,     0.91926,     0.91946,     0.91977,     0.91924,     0.91894,     0.91849,     0.91824,      0.9184,     0.91856,     0.91865,     0.91873,      0.9188,     0.91888,     0.91896,     0.91904,     0.91914,     0.91926,\n",
            "            0.91937,     0.91949,     0.91948,     0.91938,     0.91927,     0.91916,     0.91905,     0.91842,     0.91853,     0.91864,     0.91875,     0.91887,     0.91905,     0.91926,     0.91922,     0.91891,     0.91827,     0.91835,     0.91843,     0.91851,     0.91859,     0.91867,     0.91857,\n",
            "            0.91814,     0.91789,     0.91763,     0.91879,     0.91928,     0.91891,     0.91861,     0.91864,     0.91871,     0.91853,     0.91835,     0.91848,     0.91874,     0.91864,     0.91848,     0.91831,      0.9183,     0.91861,     0.91863,     0.91855,     0.91847,     0.91839,     0.91831,\n",
            "            0.91823,     0.91815,     0.91796,      0.9177,     0.91742,     0.91713,     0.91682,     0.91651,     0.91649,     0.91661,     0.91673,     0.91686,     0.91735,     0.91722,     0.91706,      0.9169,     0.91689,     0.91717,     0.91794,     0.91801,     0.91704,      0.9169,     0.91677,\n",
            "            0.91664,     0.91667,     0.91708,     0.91723,     0.91739,     0.91806,     0.91851,     0.91874,     0.91896,     0.91858,     0.91888,     0.91862,     0.91836,     0.91817,     0.91812,     0.91764,      0.9182,     0.91857,     0.91884,      0.9193,     0.91917,     0.91838,     0.91859,\n",
            "            0.91881,     0.91934,     0.91795,     0.91724,     0.91686,     0.91664,     0.91633,     0.91544,     0.91475,     0.91504,     0.91543,     0.91591,      0.9156,     0.91532,     0.91506,      0.9147,     0.91447,     0.91472,     0.91459,     0.91449,     0.91462,     0.91435,     0.91406,\n",
            "            0.91368,     0.91372,     0.91331,     0.91314,     0.91298,     0.91275,     0.91236,     0.91142,     0.91109,     0.91138,     0.91187,     0.91321,      0.9135,     0.91323,     0.91335,     0.91296,     0.91256,     0.91262,     0.91163,     0.91083,     0.91083,      0.9106,     0.91036,\n",
            "            0.90992,     0.90993,     0.91007,     0.90976,     0.90984,     0.90966,      0.9089,     0.90826,     0.90794,     0.90696,     0.90739,     0.90774,     0.90752,     0.90729,     0.90683,     0.90679,     0.90636,     0.90641,     0.90581,     0.90554,     0.90564,     0.90574,     0.90584,\n",
            "            0.90594,     0.90603,     0.90531,     0.90508,     0.90485,     0.90392,     0.90316,     0.90318,     0.90235,     0.90153,     0.90124,     0.90158,     0.90175,      0.9019,     0.90165,     0.90139,     0.89968,     0.89889,       0.898,     0.89766,     0.89781,     0.89826,     0.89837,\n",
            "              0.898,     0.89725,     0.89679,     0.89648,      0.8962,     0.89647,     0.89548,     0.89558,     0.89525,     0.89532,     0.89594,     0.89576,     0.89576,     0.89523,     0.89489,     0.89549,     0.89612,     0.89678,     0.89616,     0.89558,     0.89491,     0.89421,     0.89315,\n",
            "            0.89209,     0.89179,     0.89141,     0.89087,     0.89039,      0.8905,     0.88959,     0.88801,     0.88797,     0.88774,     0.88751,     0.88735,      0.8872,     0.88706,     0.88691,     0.88571,     0.88526,     0.88499,     0.88468,     0.88428,     0.88377,     0.88252,     0.88212,\n",
            "            0.88098,      0.8805,     0.88015,     0.87947,     0.87989,     0.88008,     0.88027,     0.87914,     0.87854,     0.87713,      0.8761,     0.87592,     0.87574,     0.87556,     0.87499,     0.87426,     0.87244,     0.87015,      0.8692,     0.86828,     0.86708,     0.86634,     0.86418,\n",
            "            0.86433,     0.86455,     0.86441,     0.86387,     0.86291,     0.86154,     0.86143,     0.86059,     0.85961,      0.8566,     0.85586,     0.85395,     0.85198,     0.84997,     0.84735,      0.8461,     0.84584,     0.84442,     0.84317,     0.84255,     0.84268,     0.84232,     0.84109,\n",
            "            0.84028,     0.83834,     0.83711,     0.83662,     0.83489,     0.83343,     0.83234,     0.82824,     0.82763,     0.82608,     0.82292,     0.82118,     0.82026,     0.82017,     0.81766,     0.81667,     0.81479,     0.81372,     0.81206,     0.81062,     0.80884,     0.80752,     0.80608,\n",
            "            0.80322,     0.80149,     0.79957,     0.79587,     0.79208,     0.78874,     0.78771,     0.78605,     0.78452,     0.78206,     0.78112,     0.77863,      0.7781,     0.77645,     0.77419,     0.76904,     0.76621,     0.76182,     0.75965,     0.75446,     0.75133,     0.74758,     0.74547,\n",
            "            0.74513,     0.73975,     0.73631,     0.73154,     0.72856,     0.72526,     0.71946,     0.71469,     0.70726,      0.7063,     0.70275,     0.69964,      0.6972,     0.69075,     0.68619,     0.68287,     0.67643,     0.66834,     0.66424,     0.65806,     0.65405,     0.64783,     0.63883,\n",
            "            0.63407,     0.62327,      0.6196,     0.61131,     0.60578,     0.60122,     0.59361,     0.58613,     0.57792,     0.57354,     0.56691,     0.56063,       0.553,     0.54803,     0.54424,     0.53674,     0.52585,     0.51769,     0.51407,     0.50504,     0.49505,     0.48444,     0.47105,\n",
            "            0.46401,     0.45434,     0.44667,     0.43507,     0.41559,     0.40163,     0.39184,     0.38249,     0.37518,     0.35992,     0.35125,     0.33708,     0.33022,     0.31708,     0.30488,     0.29236,     0.26792,     0.26182,     0.24545,     0.23605,     0.22555,     0.21345,     0.19808,\n",
            "            0.18395,     0.17413,     0.16641,     0.15817,      0.1445,     0.13924,     0.13509,     0.11837,     0.11422,     0.11159,     0.10701,     0.10162,    0.096693,    0.093204,    0.087636,    0.080732,    0.076065,    0.067195,    0.059721,    0.057516,    0.051287,    0.048525,    0.046182,\n",
            "           0.043988,    0.042184,    0.040531,     0.03845,    0.037199,    0.036488,    0.035777,    0.035239,    0.034742,    0.034245,    0.033748,    0.032538,    0.031326,    0.030796,    0.030265,    0.029734,    0.025849,    0.022866,    0.022386,    0.021905,    0.021425,    0.020596,     0.01916,\n",
            "           0.018755,    0.018454,    0.018153,    0.017852,    0.017552,    0.017251,     0.01695,    0.016576,    0.016197,    0.015818,    0.015439,    0.015059,    0.012732,    0.012176,    0.011625,    0.011075,    0.010545,    0.010125,   0.0097036,   0.0092824,   0.0088611,    0.008179,   0.0061248,\n",
            "          0.0047104,   0.0041499,   0.0039885,   0.0038272,   0.0036658,   0.0035044,   0.0033429,   0.0031815,     0.00302,   0.0028584,   0.0026969,   0.0025353,   0.0023737,   0.0022121,           0,           0,           0,           0,           0,           0,           0,           0,           0,\n",
            "                  0,           0,           0,           0,           0,           0,           0,           0,           0,           0,           0]]), 'Confidence', 'F1'], [array([          0,    0.001001,    0.002002,    0.003003,    0.004004,    0.005005,    0.006006,    0.007007,    0.008008,    0.009009,     0.01001,    0.011011,    0.012012,    0.013013,    0.014014,    0.015015,    0.016016,    0.017017,    0.018018,    0.019019,     0.02002,    0.021021,    0.022022,    0.023023,\n",
            "          0.024024,    0.025025,    0.026026,    0.027027,    0.028028,    0.029029,     0.03003,    0.031031,    0.032032,    0.033033,    0.034034,    0.035035,    0.036036,    0.037037,    0.038038,    0.039039,     0.04004,    0.041041,    0.042042,    0.043043,    0.044044,    0.045045,    0.046046,    0.047047,\n",
            "          0.048048,    0.049049,     0.05005,    0.051051,    0.052052,    0.053053,    0.054054,    0.055055,    0.056056,    0.057057,    0.058058,    0.059059,     0.06006,    0.061061,    0.062062,    0.063063,    0.064064,    0.065065,    0.066066,    0.067067,    0.068068,    0.069069,     0.07007,    0.071071,\n",
            "          0.072072,    0.073073,    0.074074,    0.075075,    0.076076,    0.077077,    0.078078,    0.079079,     0.08008,    0.081081,    0.082082,    0.083083,    0.084084,    0.085085,    0.086086,    0.087087,    0.088088,    0.089089,     0.09009,    0.091091,    0.092092,    0.093093,    0.094094,    0.095095,\n",
            "          0.096096,    0.097097,    0.098098,    0.099099,      0.1001,      0.1011,      0.1021,      0.1031,      0.1041,     0.10511,     0.10611,     0.10711,     0.10811,     0.10911,     0.11011,     0.11111,     0.11211,     0.11311,     0.11411,     0.11512,     0.11612,     0.11712,     0.11812,     0.11912,\n",
            "           0.12012,     0.12112,     0.12212,     0.12312,     0.12412,     0.12513,     0.12613,     0.12713,     0.12813,     0.12913,     0.13013,     0.13113,     0.13213,     0.13313,     0.13413,     0.13514,     0.13614,     0.13714,     0.13814,     0.13914,     0.14014,     0.14114,     0.14214,     0.14314,\n",
            "           0.14414,     0.14515,     0.14615,     0.14715,     0.14815,     0.14915,     0.15015,     0.15115,     0.15215,     0.15315,     0.15415,     0.15516,     0.15616,     0.15716,     0.15816,     0.15916,     0.16016,     0.16116,     0.16216,     0.16316,     0.16416,     0.16517,     0.16617,     0.16717,\n",
            "           0.16817,     0.16917,     0.17017,     0.17117,     0.17217,     0.17317,     0.17417,     0.17518,     0.17618,     0.17718,     0.17818,     0.17918,     0.18018,     0.18118,     0.18218,     0.18318,     0.18418,     0.18519,     0.18619,     0.18719,     0.18819,     0.18919,     0.19019,     0.19119,\n",
            "           0.19219,     0.19319,     0.19419,      0.1952,      0.1962,      0.1972,      0.1982,      0.1992,      0.2002,      0.2012,      0.2022,      0.2032,      0.2042,     0.20521,     0.20621,     0.20721,     0.20821,     0.20921,     0.21021,     0.21121,     0.21221,     0.21321,     0.21421,     0.21522,\n",
            "           0.21622,     0.21722,     0.21822,     0.21922,     0.22022,     0.22122,     0.22222,     0.22322,     0.22422,     0.22523,     0.22623,     0.22723,     0.22823,     0.22923,     0.23023,     0.23123,     0.23223,     0.23323,     0.23423,     0.23524,     0.23624,     0.23724,     0.23824,     0.23924,\n",
            "           0.24024,     0.24124,     0.24224,     0.24324,     0.24424,     0.24525,     0.24625,     0.24725,     0.24825,     0.24925,     0.25025,     0.25125,     0.25225,     0.25325,     0.25425,     0.25526,     0.25626,     0.25726,     0.25826,     0.25926,     0.26026,     0.26126,     0.26226,     0.26326,\n",
            "           0.26426,     0.26527,     0.26627,     0.26727,     0.26827,     0.26927,     0.27027,     0.27127,     0.27227,     0.27327,     0.27427,     0.27528,     0.27628,     0.27728,     0.27828,     0.27928,     0.28028,     0.28128,     0.28228,     0.28328,     0.28428,     0.28529,     0.28629,     0.28729,\n",
            "           0.28829,     0.28929,     0.29029,     0.29129,     0.29229,     0.29329,     0.29429,      0.2953,      0.2963,      0.2973,      0.2983,      0.2993,      0.3003,      0.3013,      0.3023,      0.3033,      0.3043,     0.30531,     0.30631,     0.30731,     0.30831,     0.30931,     0.31031,     0.31131,\n",
            "           0.31231,     0.31331,     0.31431,     0.31532,     0.31632,     0.31732,     0.31832,     0.31932,     0.32032,     0.32132,     0.32232,     0.32332,     0.32432,     0.32533,     0.32633,     0.32733,     0.32833,     0.32933,     0.33033,     0.33133,     0.33233,     0.33333,     0.33433,     0.33534,\n",
            "           0.33634,     0.33734,     0.33834,     0.33934,     0.34034,     0.34134,     0.34234,     0.34334,     0.34434,     0.34535,     0.34635,     0.34735,     0.34835,     0.34935,     0.35035,     0.35135,     0.35235,     0.35335,     0.35435,     0.35536,     0.35636,     0.35736,     0.35836,     0.35936,\n",
            "           0.36036,     0.36136,     0.36236,     0.36336,     0.36436,     0.36537,     0.36637,     0.36737,     0.36837,     0.36937,     0.37037,     0.37137,     0.37237,     0.37337,     0.37437,     0.37538,     0.37638,     0.37738,     0.37838,     0.37938,     0.38038,     0.38138,     0.38238,     0.38338,\n",
            "           0.38438,     0.38539,     0.38639,     0.38739,     0.38839,     0.38939,     0.39039,     0.39139,     0.39239,     0.39339,     0.39439,      0.3954,      0.3964,      0.3974,      0.3984,      0.3994,      0.4004,      0.4014,      0.4024,      0.4034,      0.4044,     0.40541,     0.40641,     0.40741,\n",
            "           0.40841,     0.40941,     0.41041,     0.41141,     0.41241,     0.41341,     0.41441,     0.41542,     0.41642,     0.41742,     0.41842,     0.41942,     0.42042,     0.42142,     0.42242,     0.42342,     0.42442,     0.42543,     0.42643,     0.42743,     0.42843,     0.42943,     0.43043,     0.43143,\n",
            "           0.43243,     0.43343,     0.43443,     0.43544,     0.43644,     0.43744,     0.43844,     0.43944,     0.44044,     0.44144,     0.44244,     0.44344,     0.44444,     0.44545,     0.44645,     0.44745,     0.44845,     0.44945,     0.45045,     0.45145,     0.45245,     0.45345,     0.45445,     0.45546,\n",
            "           0.45646,     0.45746,     0.45846,     0.45946,     0.46046,     0.46146,     0.46246,     0.46346,     0.46446,     0.46547,     0.46647,     0.46747,     0.46847,     0.46947,     0.47047,     0.47147,     0.47247,     0.47347,     0.47447,     0.47548,     0.47648,     0.47748,     0.47848,     0.47948,\n",
            "           0.48048,     0.48148,     0.48248,     0.48348,     0.48448,     0.48549,     0.48649,     0.48749,     0.48849,     0.48949,     0.49049,     0.49149,     0.49249,     0.49349,     0.49449,      0.4955,      0.4965,      0.4975,      0.4985,      0.4995,      0.5005,      0.5015,      0.5025,      0.5035,\n",
            "            0.5045,     0.50551,     0.50651,     0.50751,     0.50851,     0.50951,     0.51051,     0.51151,     0.51251,     0.51351,     0.51451,     0.51552,     0.51652,     0.51752,     0.51852,     0.51952,     0.52052,     0.52152,     0.52252,     0.52352,     0.52452,     0.52553,     0.52653,     0.52753,\n",
            "           0.52853,     0.52953,     0.53053,     0.53153,     0.53253,     0.53353,     0.53453,     0.53554,     0.53654,     0.53754,     0.53854,     0.53954,     0.54054,     0.54154,     0.54254,     0.54354,     0.54454,     0.54555,     0.54655,     0.54755,     0.54855,     0.54955,     0.55055,     0.55155,\n",
            "           0.55255,     0.55355,     0.55455,     0.55556,     0.55656,     0.55756,     0.55856,     0.55956,     0.56056,     0.56156,     0.56256,     0.56356,     0.56456,     0.56557,     0.56657,     0.56757,     0.56857,     0.56957,     0.57057,     0.57157,     0.57257,     0.57357,     0.57457,     0.57558,\n",
            "           0.57658,     0.57758,     0.57858,     0.57958,     0.58058,     0.58158,     0.58258,     0.58358,     0.58458,     0.58559,     0.58659,     0.58759,     0.58859,     0.58959,     0.59059,     0.59159,     0.59259,     0.59359,     0.59459,      0.5956,      0.5966,      0.5976,      0.5986,      0.5996,\n",
            "            0.6006,      0.6016,      0.6026,      0.6036,      0.6046,     0.60561,     0.60661,     0.60761,     0.60861,     0.60961,     0.61061,     0.61161,     0.61261,     0.61361,     0.61461,     0.61562,     0.61662,     0.61762,     0.61862,     0.61962,     0.62062,     0.62162,     0.62262,     0.62362,\n",
            "           0.62462,     0.62563,     0.62663,     0.62763,     0.62863,     0.62963,     0.63063,     0.63163,     0.63263,     0.63363,     0.63463,     0.63564,     0.63664,     0.63764,     0.63864,     0.63964,     0.64064,     0.64164,     0.64264,     0.64364,     0.64464,     0.64565,     0.64665,     0.64765,\n",
            "           0.64865,     0.64965,     0.65065,     0.65165,     0.65265,     0.65365,     0.65465,     0.65566,     0.65666,     0.65766,     0.65866,     0.65966,     0.66066,     0.66166,     0.66266,     0.66366,     0.66466,     0.66567,     0.66667,     0.66767,     0.66867,     0.66967,     0.67067,     0.67167,\n",
            "           0.67267,     0.67367,     0.67467,     0.67568,     0.67668,     0.67768,     0.67868,     0.67968,     0.68068,     0.68168,     0.68268,     0.68368,     0.68468,     0.68569,     0.68669,     0.68769,     0.68869,     0.68969,     0.69069,     0.69169,     0.69269,     0.69369,     0.69469,      0.6957,\n",
            "            0.6967,      0.6977,      0.6987,      0.6997,      0.7007,      0.7017,      0.7027,      0.7037,      0.7047,     0.70571,     0.70671,     0.70771,     0.70871,     0.70971,     0.71071,     0.71171,     0.71271,     0.71371,     0.71471,     0.71572,     0.71672,     0.71772,     0.71872,     0.71972,\n",
            "           0.72072,     0.72172,     0.72272,     0.72372,     0.72472,     0.72573,     0.72673,     0.72773,     0.72873,     0.72973,     0.73073,     0.73173,     0.73273,     0.73373,     0.73473,     0.73574,     0.73674,     0.73774,     0.73874,     0.73974,     0.74074,     0.74174,     0.74274,     0.74374,\n",
            "           0.74474,     0.74575,     0.74675,     0.74775,     0.74875,     0.74975,     0.75075,     0.75175,     0.75275,     0.75375,     0.75475,     0.75576,     0.75676,     0.75776,     0.75876,     0.75976,     0.76076,     0.76176,     0.76276,     0.76376,     0.76476,     0.76577,     0.76677,     0.76777,\n",
            "           0.76877,     0.76977,     0.77077,     0.77177,     0.77277,     0.77377,     0.77477,     0.77578,     0.77678,     0.77778,     0.77878,     0.77978,     0.78078,     0.78178,     0.78278,     0.78378,     0.78478,     0.78579,     0.78679,     0.78779,     0.78879,     0.78979,     0.79079,     0.79179,\n",
            "           0.79279,     0.79379,     0.79479,      0.7958,      0.7968,      0.7978,      0.7988,      0.7998,      0.8008,      0.8018,      0.8028,      0.8038,      0.8048,     0.80581,     0.80681,     0.80781,     0.80881,     0.80981,     0.81081,     0.81181,     0.81281,     0.81381,     0.81481,     0.81582,\n",
            "           0.81682,     0.81782,     0.81882,     0.81982,     0.82082,     0.82182,     0.82282,     0.82382,     0.82482,     0.82583,     0.82683,     0.82783,     0.82883,     0.82983,     0.83083,     0.83183,     0.83283,     0.83383,     0.83483,     0.83584,     0.83684,     0.83784,     0.83884,     0.83984,\n",
            "           0.84084,     0.84184,     0.84284,     0.84384,     0.84484,     0.84585,     0.84685,     0.84785,     0.84885,     0.84985,     0.85085,     0.85185,     0.85285,     0.85385,     0.85485,     0.85586,     0.85686,     0.85786,     0.85886,     0.85986,     0.86086,     0.86186,     0.86286,     0.86386,\n",
            "           0.86486,     0.86587,     0.86687,     0.86787,     0.86887,     0.86987,     0.87087,     0.87187,     0.87287,     0.87387,     0.87487,     0.87588,     0.87688,     0.87788,     0.87888,     0.87988,     0.88088,     0.88188,     0.88288,     0.88388,     0.88488,     0.88589,     0.88689,     0.88789,\n",
            "           0.88889,     0.88989,     0.89089,     0.89189,     0.89289,     0.89389,     0.89489,      0.8959,      0.8969,      0.8979,      0.8989,      0.8999,      0.9009,      0.9019,      0.9029,      0.9039,      0.9049,     0.90591,     0.90691,     0.90791,     0.90891,     0.90991,     0.91091,     0.91191,\n",
            "           0.91291,     0.91391,     0.91491,     0.91592,     0.91692,     0.91792,     0.91892,     0.91992,     0.92092,     0.92192,     0.92292,     0.92392,     0.92492,     0.92593,     0.92693,     0.92793,     0.92893,     0.92993,     0.93093,     0.93193,     0.93293,     0.93393,     0.93493,     0.93594,\n",
            "           0.93694,     0.93794,     0.93894,     0.93994,     0.94094,     0.94194,     0.94294,     0.94394,     0.94494,     0.94595,     0.94695,     0.94795,     0.94895,     0.94995,     0.95095,     0.95195,     0.95295,     0.95395,     0.95495,     0.95596,     0.95696,     0.95796,     0.95896,     0.95996,\n",
            "           0.96096,     0.96196,     0.96296,     0.96396,     0.96496,     0.96597,     0.96697,     0.96797,     0.96897,     0.96997,     0.97097,     0.97197,     0.97297,     0.97397,     0.97497,     0.97598,     0.97698,     0.97798,     0.97898,     0.97998,     0.98098,     0.98198,     0.98298,     0.98398,\n",
            "           0.98498,     0.98599,     0.98699,     0.98799,     0.98899,     0.98999,     0.99099,     0.99199,     0.99299,     0.99399,     0.99499,       0.996,       0.997,       0.998,       0.999,           1]), array([[    0.22754,     0.22808,     0.34904,     0.41099,     0.44921,     0.47687,     0.49981,     0.51256,     0.52665,     0.53708,     0.54504,     0.55436,     0.56625,     0.57371,     0.57959,     0.58424,     0.58975,     0.59529,     0.60156,     0.60533,      0.6113,     0.61557,     0.61872,\n",
            "            0.62301,     0.62606,     0.62938,     0.63149,      0.6348,     0.63931,     0.64283,     0.64412,     0.64641,     0.64789,     0.65076,     0.65451,     0.65718,     0.66002,     0.66263,     0.66459,     0.66748,     0.66989,     0.67232,      0.6733,     0.67466,     0.67743,     0.68023,\n",
            "            0.68111,     0.68238,     0.68318,     0.68373,     0.68533,     0.68632,     0.68738,     0.68843,     0.68932,     0.68982,      0.6901,     0.69093,     0.69159,     0.69466,     0.69688,     0.69745,     0.69914,     0.69999,     0.70086,      0.7018,     0.70288,     0.70457,     0.70732,\n",
            "            0.70941,     0.70983,     0.71007,      0.7106,     0.71174,      0.7129,     0.71399,     0.71532,     0.71529,     0.71642,     0.71733,      0.7179,     0.71971,      0.7211,     0.72392,     0.72512,      0.7257,      0.7273,     0.72787,     0.72827,     0.72872,     0.73046,     0.73114,\n",
            "            0.73237,      0.7332,     0.73418,     0.73421,     0.73599,     0.73673,     0.73702,     0.73958,      0.7405,     0.74207,     0.74379,      0.7454,     0.74725,      0.7479,      0.7483,     0.74912,     0.74945,      0.7503,     0.75245,     0.75287,     0.75314,     0.75358,     0.75422,\n",
            "             0.7543,     0.75556,     0.75581,     0.75605,     0.75733,     0.75767,     0.75799,     0.75824,     0.75848,     0.75952,     0.76029,     0.76118,     0.76205,     0.76249,     0.76276,     0.76282,     0.76348,     0.76365,     0.76381,     0.76398,      0.7644,     0.76489,     0.76534,\n",
            "            0.76593,     0.76607,     0.76621,     0.76636,      0.7665,      0.7671,     0.76918,     0.76948,     0.76982,     0.77032,     0.77124,     0.77152,     0.77179,     0.77205,     0.77231,     0.77212,     0.77237,     0.77263,     0.77386,     0.77553,     0.77594,     0.77616,     0.77635,\n",
            "            0.77654,     0.77682,     0.77729,     0.77793,     0.77942,     0.77996,     0.78032,     0.78065,     0.78089,     0.78113,     0.78174,     0.78323,     0.78339,     0.78354,     0.78369,     0.78385,     0.78464,     0.78479,     0.78494,      0.7851,     0.78534,     0.78608,     0.78649,\n",
            "            0.78684,     0.78718,     0.78824,      0.7886,     0.78888,     0.78967,     0.78964,      0.7899,     0.79093,      0.7912,     0.79147,     0.79277,     0.79288,     0.79279,     0.79527,     0.79745,     0.79746,     0.79869,     0.79976,     0.80019,     0.80059,     0.80131,     0.80265,\n",
            "            0.80335,     0.80408,     0.80488,     0.80618,     0.80703,     0.80787,     0.80847,     0.80896,     0.80947,     0.81008,      0.8105,      0.8109,     0.81129,     0.81242,     0.81296,     0.81307,     0.81318,     0.81329,      0.8134,     0.81351,     0.81412,     0.81504,     0.81558,\n",
            "            0.81691,     0.81709,     0.81749,      0.8179,     0.81832,     0.81865,      0.8189,     0.81915,     0.81981,     0.82015,     0.82049,     0.82086,     0.82124,     0.82151,     0.82177,       0.822,     0.82194,     0.82189,     0.82226,      0.8233,     0.82324,     0.82318,      0.8239,\n",
            "            0.82387,     0.82383,      0.8238,     0.82377,     0.82386,     0.82432,     0.82541,      0.8258,     0.82618,     0.82654,      0.8268,     0.82698,     0.82715,     0.82732,     0.82787,     0.82814,     0.82806,     0.82974,     0.83026,     0.83016,     0.83051,      0.8309,     0.83071,\n",
            "            0.83061,     0.83079,     0.83102,     0.83124,     0.83183,     0.83235,     0.83268,     0.83324,     0.83383,     0.83416,     0.83439,     0.83434,      0.8343,     0.83425,     0.83449,     0.83473,     0.83498,     0.83562,     0.83665,     0.83695,     0.83725,     0.83767,     0.83814,\n",
            "            0.83887,     0.83938,     0.83962,     0.83959,     0.83955,     0.83952,     0.83949,     0.84002,      0.8406,     0.84132,     0.84177,     0.84172,     0.84167,     0.84207,     0.84311,      0.8443,     0.84473,     0.84488,     0.84502,     0.84517,     0.84531,     0.84546,     0.84564,\n",
            "            0.84582,     0.84599,     0.84617,       0.847,     0.84711,     0.84752,     0.84775,     0.84789,     0.84803,     0.84817,     0.84831,     0.84845,     0.84925,     0.85009,     0.85087,      0.8511,     0.85133,     0.85156,     0.85194,      0.8524,     0.85279,     0.85316,     0.85324,\n",
            "            0.85355,     0.85385,     0.85371,     0.85364,     0.85398,     0.85432,     0.85468,     0.85506,     0.85613,     0.85627,     0.85642,     0.85656,      0.8567,     0.85685,     0.85697,     0.85709,     0.85721,     0.85732,     0.85744,     0.85756,     0.85768,     0.85821,       0.859,\n",
            "            0.86035,     0.86091,     0.86138,     0.86179,     0.86194,     0.86209,     0.86223,     0.86238,     0.86252,     0.86279,     0.86317,     0.86455,     0.86532,     0.86577,     0.86611,      0.8664,     0.86669,     0.86847,     0.86955,     0.86996,     0.86988,      0.8698,     0.86976,\n",
            "            0.86972,     0.86972,     0.86997,     0.87022,     0.87047,     0.87052,      0.8705,     0.87048,     0.87045,     0.87043,     0.87041,     0.87284,     0.87412,     0.87448,     0.87478,     0.87503,     0.87528,     0.87554,     0.87583,     0.87612,     0.87633,     0.87627,     0.87634,\n",
            "            0.87706,     0.87699,      0.8769,     0.87781,     0.87802,     0.87824,     0.87845,     0.87937,     0.87929,     0.87924,     0.87919,     0.87911,     0.87935,     0.87991,     0.87986,     0.87981,     0.88012,      0.8805,     0.88086,      0.8812,     0.88153,     0.88163,     0.88172,\n",
            "             0.8818,     0.88189,     0.88198,     0.88207,     0.88216,     0.88225,     0.88234,     0.88299,     0.88352,     0.88377,     0.88402,     0.88426,     0.88446,     0.88467,     0.88488,     0.88501,     0.88492,     0.88561,     0.88576,     0.88571,     0.88613,     0.88734,     0.88741,\n",
            "            0.88737,     0.88735,     0.88808,     0.88878,      0.8888,     0.88923,     0.88974,     0.88999,     0.89023,     0.89048,      0.8904,     0.89086,     0.89237,     0.89305,      0.8932,     0.89335,      0.8935,     0.89365,      0.8938,     0.89394,     0.89386,      0.8947,     0.89515,\n",
            "            0.89561,     0.89624,     0.89656,     0.89674,     0.89691,     0.89708,     0.89726,     0.89763,     0.89827,     0.89817,     0.89811,     0.89803,     0.89822,     0.89853,     0.89884,     0.89901,     0.89916,      0.8993,     0.89945,      0.8996,     0.89975,     0.89995,     0.90017,\n",
            "            0.90039,     0.90061,     0.90071,     0.90069,     0.90067,     0.90065,     0.90063,     0.90053,     0.90074,     0.90096,     0.90117,     0.90139,     0.90175,     0.90215,     0.90234,     0.90228,     0.90222,     0.90238,     0.90253,     0.90268,     0.90284,     0.90299,     0.90307,\n",
            "            0.90299,     0.90295,      0.9029,     0.90523,      0.9066,     0.90654,     0.90648,     0.90695,     0.90736,     0.90733,      0.9073,     0.90765,     0.90817,     0.90821,     0.90819,     0.90816,     0.90833,     0.90894,     0.90908,     0.90907,     0.90905,     0.90904,     0.90903,\n",
            "            0.90901,       0.909,     0.90897,     0.90893,     0.90888,     0.90883,     0.90878,     0.90873,     0.90887,     0.90912,     0.90936,     0.90961,     0.91058,      0.9106,     0.91057,     0.91054,     0.91071,     0.91126,     0.91277,     0.91337,     0.91322,     0.91319,     0.91317,\n",
            "            0.91315,      0.9134,     0.91422,     0.91453,     0.91483,     0.91616,     0.91706,     0.91752,     0.91797,     0.91826,     0.91889,     0.91885,     0.91881,     0.91969,      0.9206,     0.92053,     0.92181,     0.92255,     0.92309,     0.92403,     0.92444,     0.92434,     0.92478,\n",
            "            0.92521,     0.92632,     0.92613,     0.92604,     0.92598,     0.92595,     0.92591,     0.92579,     0.92581,     0.92641,      0.9272,      0.9282,     0.92865,     0.92861,     0.92858,     0.92853,     0.92863,     0.92914,     0.93001,     0.93093,      0.9314,     0.93137,     0.93133,\n",
            "            0.93128,     0.93226,      0.9322,     0.93218,     0.93216,     0.93213,     0.93208,     0.93196,     0.93196,     0.93255,     0.93359,      0.9364,     0.93701,     0.93763,     0.93812,     0.93807,     0.93803,     0.93872,     0.93892,     0.93883,     0.93983,     0.93981,     0.93978,\n",
            "            0.93973,     0.94022,     0.94076,     0.94073,     0.94123,     0.94173,     0.94165,      0.9426,     0.94331,     0.94349,     0.94585,     0.94669,     0.94667,     0.94665,      0.9466,     0.94834,     0.94866,     0.94972,     0.95003,     0.95071,     0.95094,     0.95116,     0.95138,\n",
            "             0.9516,     0.95182,     0.95175,     0.95173,     0.95171,     0.95162,     0.95155,     0.95264,     0.95256,     0.95249,     0.95427,     0.95504,     0.95543,     0.95579,     0.95577,     0.95575,      0.9556,     0.95554,     0.95546,     0.95543,     0.95598,       0.957,     0.95771,\n",
            "            0.95768,     0.95762,     0.95758,     0.95756,     0.95753,     0.95868,      0.9586,     0.95915,     0.95977,     0.96135,     0.96277,     0.96316,     0.96431,     0.96428,     0.96425,     0.96599,     0.96745,     0.96901,     0.96898,     0.96895,     0.96891,     0.97004,     0.96998,\n",
            "            0.96992,      0.9699,     0.96988,     0.96985,     0.97002,     0.97101,     0.97096,     0.97087,     0.97207,     0.97206,     0.97205,     0.97204,     0.97203,     0.97202,     0.97201,     0.97195,     0.97281,      0.9737,     0.97433,     0.97431,     0.97428,     0.97422,      0.9742,\n",
            "            0.97482,     0.97535,     0.97534,     0.97583,     0.97686,     0.97733,     0.97781,     0.97779,     0.97776,      0.9777,     0.97892,     0.97891,      0.9789,     0.97889,     0.97887,     0.97884,     0.97876,     0.97867,     0.97862,     0.97859,     0.97853,      0.9785,     0.97841,\n",
            "            0.97895,     0.97951,     0.98103,     0.98101,     0.98229,     0.98224,     0.98356,     0.98353,      0.9835,      0.9834,     0.98338,     0.98331,     0.98325,     0.98318,     0.98309,     0.98305,     0.98441,     0.98437,     0.98433,     0.98446,      0.9857,     0.98569,     0.98566,\n",
            "            0.98564,     0.98558,     0.98554,     0.98553,     0.98548,     0.98543,      0.9854,     0.98528,      0.9867,      0.9881,     0.98804,     0.98799,     0.98797,     0.98945,     0.98939,     0.98937,     0.98933,     0.98931,     0.98995,     0.99075,     0.99072,     0.99069,     0.99066,\n",
            "            0.99061,     0.99058,     0.99054,     0.99047,     0.99039,     0.99191,      0.9919,     0.99348,     0.99346,     0.99342,     0.99341,     0.99338,     0.99337,     0.99335,     0.99331,     0.99324,      0.9932,     0.99314,     0.99311,     0.99303,     0.99298,     0.99293,     0.99336,\n",
            "            0.99465,     0.99459,     0.99455,      0.9945,     0.99446,     0.99442,     0.99435,     0.99429,      0.9942,     0.99488,     0.99608,     0.99606,     0.99604,     0.99598,     0.99594,     0.99591,     0.99585,     0.99788,     0.99786,     0.99783,     0.99781,     0.99778,     0.99773,\n",
            "            0.99771,     0.99765,     0.99763,     0.99758,     0.99755,     0.99753,           1,           1,           1,           1,           1,           1,           1,           1,           1,           1,           1,           1,           1,           1,           1,           1,           1,\n",
            "                  1,           1,           1,           1,           1,           1,           1,           1,           1,           1,           1,           1,           1,           1,           1,           1,           1,           1,           1,           1,           1,           1,           1,\n",
            "                  1,           1,           1,           1,           1,           1,           1,           1,           1,           1,           1,           1,           1,           1,           1,           1,           1,           1,           1,           1,           1,           1,           1,\n",
            "                  1,           1,           1,           1,           1,           1,           1,           1,           1,           1,           1,           1,           1,           1,           1,           1,           1,           1,           1,           1,           1,           1,           1,\n",
            "                  1,           1,           1,           1,           1,           1,           1,           1,           1,           1,           1,           1,           1,           1,           1,           1,           1,           1,           1,           1,           1,           1,           1,\n",
            "                  1,           1,           1,           1,           1,           1,           1,           1,           1,           1,           1,           1,           1,           1,           1,           1,           1,           1,           1,           1,           1,           1,           1,\n",
            "                  1,           1,           1,           1,           1,           1,           1,           1,           1,           1,           1]]), 'Confidence', 'Precision'], [array([          0,    0.001001,    0.002002,    0.003003,    0.004004,    0.005005,    0.006006,    0.007007,    0.008008,    0.009009,     0.01001,    0.011011,    0.012012,    0.013013,    0.014014,    0.015015,    0.016016,    0.017017,    0.018018,    0.019019,     0.02002,    0.021021,    0.022022,    0.023023,\n",
            "          0.024024,    0.025025,    0.026026,    0.027027,    0.028028,    0.029029,     0.03003,    0.031031,    0.032032,    0.033033,    0.034034,    0.035035,    0.036036,    0.037037,    0.038038,    0.039039,     0.04004,    0.041041,    0.042042,    0.043043,    0.044044,    0.045045,    0.046046,    0.047047,\n",
            "          0.048048,    0.049049,     0.05005,    0.051051,    0.052052,    0.053053,    0.054054,    0.055055,    0.056056,    0.057057,    0.058058,    0.059059,     0.06006,    0.061061,    0.062062,    0.063063,    0.064064,    0.065065,    0.066066,    0.067067,    0.068068,    0.069069,     0.07007,    0.071071,\n",
            "          0.072072,    0.073073,    0.074074,    0.075075,    0.076076,    0.077077,    0.078078,    0.079079,     0.08008,    0.081081,    0.082082,    0.083083,    0.084084,    0.085085,    0.086086,    0.087087,    0.088088,    0.089089,     0.09009,    0.091091,    0.092092,    0.093093,    0.094094,    0.095095,\n",
            "          0.096096,    0.097097,    0.098098,    0.099099,      0.1001,      0.1011,      0.1021,      0.1031,      0.1041,     0.10511,     0.10611,     0.10711,     0.10811,     0.10911,     0.11011,     0.11111,     0.11211,     0.11311,     0.11411,     0.11512,     0.11612,     0.11712,     0.11812,     0.11912,\n",
            "           0.12012,     0.12112,     0.12212,     0.12312,     0.12412,     0.12513,     0.12613,     0.12713,     0.12813,     0.12913,     0.13013,     0.13113,     0.13213,     0.13313,     0.13413,     0.13514,     0.13614,     0.13714,     0.13814,     0.13914,     0.14014,     0.14114,     0.14214,     0.14314,\n",
            "           0.14414,     0.14515,     0.14615,     0.14715,     0.14815,     0.14915,     0.15015,     0.15115,     0.15215,     0.15315,     0.15415,     0.15516,     0.15616,     0.15716,     0.15816,     0.15916,     0.16016,     0.16116,     0.16216,     0.16316,     0.16416,     0.16517,     0.16617,     0.16717,\n",
            "           0.16817,     0.16917,     0.17017,     0.17117,     0.17217,     0.17317,     0.17417,     0.17518,     0.17618,     0.17718,     0.17818,     0.17918,     0.18018,     0.18118,     0.18218,     0.18318,     0.18418,     0.18519,     0.18619,     0.18719,     0.18819,     0.18919,     0.19019,     0.19119,\n",
            "           0.19219,     0.19319,     0.19419,      0.1952,      0.1962,      0.1972,      0.1982,      0.1992,      0.2002,      0.2012,      0.2022,      0.2032,      0.2042,     0.20521,     0.20621,     0.20721,     0.20821,     0.20921,     0.21021,     0.21121,     0.21221,     0.21321,     0.21421,     0.21522,\n",
            "           0.21622,     0.21722,     0.21822,     0.21922,     0.22022,     0.22122,     0.22222,     0.22322,     0.22422,     0.22523,     0.22623,     0.22723,     0.22823,     0.22923,     0.23023,     0.23123,     0.23223,     0.23323,     0.23423,     0.23524,     0.23624,     0.23724,     0.23824,     0.23924,\n",
            "           0.24024,     0.24124,     0.24224,     0.24324,     0.24424,     0.24525,     0.24625,     0.24725,     0.24825,     0.24925,     0.25025,     0.25125,     0.25225,     0.25325,     0.25425,     0.25526,     0.25626,     0.25726,     0.25826,     0.25926,     0.26026,     0.26126,     0.26226,     0.26326,\n",
            "           0.26426,     0.26527,     0.26627,     0.26727,     0.26827,     0.26927,     0.27027,     0.27127,     0.27227,     0.27327,     0.27427,     0.27528,     0.27628,     0.27728,     0.27828,     0.27928,     0.28028,     0.28128,     0.28228,     0.28328,     0.28428,     0.28529,     0.28629,     0.28729,\n",
            "           0.28829,     0.28929,     0.29029,     0.29129,     0.29229,     0.29329,     0.29429,      0.2953,      0.2963,      0.2973,      0.2983,      0.2993,      0.3003,      0.3013,      0.3023,      0.3033,      0.3043,     0.30531,     0.30631,     0.30731,     0.30831,     0.30931,     0.31031,     0.31131,\n",
            "           0.31231,     0.31331,     0.31431,     0.31532,     0.31632,     0.31732,     0.31832,     0.31932,     0.32032,     0.32132,     0.32232,     0.32332,     0.32432,     0.32533,     0.32633,     0.32733,     0.32833,     0.32933,     0.33033,     0.33133,     0.33233,     0.33333,     0.33433,     0.33534,\n",
            "           0.33634,     0.33734,     0.33834,     0.33934,     0.34034,     0.34134,     0.34234,     0.34334,     0.34434,     0.34535,     0.34635,     0.34735,     0.34835,     0.34935,     0.35035,     0.35135,     0.35235,     0.35335,     0.35435,     0.35536,     0.35636,     0.35736,     0.35836,     0.35936,\n",
            "           0.36036,     0.36136,     0.36236,     0.36336,     0.36436,     0.36537,     0.36637,     0.36737,     0.36837,     0.36937,     0.37037,     0.37137,     0.37237,     0.37337,     0.37437,     0.37538,     0.37638,     0.37738,     0.37838,     0.37938,     0.38038,     0.38138,     0.38238,     0.38338,\n",
            "           0.38438,     0.38539,     0.38639,     0.38739,     0.38839,     0.38939,     0.39039,     0.39139,     0.39239,     0.39339,     0.39439,      0.3954,      0.3964,      0.3974,      0.3984,      0.3994,      0.4004,      0.4014,      0.4024,      0.4034,      0.4044,     0.40541,     0.40641,     0.40741,\n",
            "           0.40841,     0.40941,     0.41041,     0.41141,     0.41241,     0.41341,     0.41441,     0.41542,     0.41642,     0.41742,     0.41842,     0.41942,     0.42042,     0.42142,     0.42242,     0.42342,     0.42442,     0.42543,     0.42643,     0.42743,     0.42843,     0.42943,     0.43043,     0.43143,\n",
            "           0.43243,     0.43343,     0.43443,     0.43544,     0.43644,     0.43744,     0.43844,     0.43944,     0.44044,     0.44144,     0.44244,     0.44344,     0.44444,     0.44545,     0.44645,     0.44745,     0.44845,     0.44945,     0.45045,     0.45145,     0.45245,     0.45345,     0.45445,     0.45546,\n",
            "           0.45646,     0.45746,     0.45846,     0.45946,     0.46046,     0.46146,     0.46246,     0.46346,     0.46446,     0.46547,     0.46647,     0.46747,     0.46847,     0.46947,     0.47047,     0.47147,     0.47247,     0.47347,     0.47447,     0.47548,     0.47648,     0.47748,     0.47848,     0.47948,\n",
            "           0.48048,     0.48148,     0.48248,     0.48348,     0.48448,     0.48549,     0.48649,     0.48749,     0.48849,     0.48949,     0.49049,     0.49149,     0.49249,     0.49349,     0.49449,      0.4955,      0.4965,      0.4975,      0.4985,      0.4995,      0.5005,      0.5015,      0.5025,      0.5035,\n",
            "            0.5045,     0.50551,     0.50651,     0.50751,     0.50851,     0.50951,     0.51051,     0.51151,     0.51251,     0.51351,     0.51451,     0.51552,     0.51652,     0.51752,     0.51852,     0.51952,     0.52052,     0.52152,     0.52252,     0.52352,     0.52452,     0.52553,     0.52653,     0.52753,\n",
            "           0.52853,     0.52953,     0.53053,     0.53153,     0.53253,     0.53353,     0.53453,     0.53554,     0.53654,     0.53754,     0.53854,     0.53954,     0.54054,     0.54154,     0.54254,     0.54354,     0.54454,     0.54555,     0.54655,     0.54755,     0.54855,     0.54955,     0.55055,     0.55155,\n",
            "           0.55255,     0.55355,     0.55455,     0.55556,     0.55656,     0.55756,     0.55856,     0.55956,     0.56056,     0.56156,     0.56256,     0.56356,     0.56456,     0.56557,     0.56657,     0.56757,     0.56857,     0.56957,     0.57057,     0.57157,     0.57257,     0.57357,     0.57457,     0.57558,\n",
            "           0.57658,     0.57758,     0.57858,     0.57958,     0.58058,     0.58158,     0.58258,     0.58358,     0.58458,     0.58559,     0.58659,     0.58759,     0.58859,     0.58959,     0.59059,     0.59159,     0.59259,     0.59359,     0.59459,      0.5956,      0.5966,      0.5976,      0.5986,      0.5996,\n",
            "            0.6006,      0.6016,      0.6026,      0.6036,      0.6046,     0.60561,     0.60661,     0.60761,     0.60861,     0.60961,     0.61061,     0.61161,     0.61261,     0.61361,     0.61461,     0.61562,     0.61662,     0.61762,     0.61862,     0.61962,     0.62062,     0.62162,     0.62262,     0.62362,\n",
            "           0.62462,     0.62563,     0.62663,     0.62763,     0.62863,     0.62963,     0.63063,     0.63163,     0.63263,     0.63363,     0.63463,     0.63564,     0.63664,     0.63764,     0.63864,     0.63964,     0.64064,     0.64164,     0.64264,     0.64364,     0.64464,     0.64565,     0.64665,     0.64765,\n",
            "           0.64865,     0.64965,     0.65065,     0.65165,     0.65265,     0.65365,     0.65465,     0.65566,     0.65666,     0.65766,     0.65866,     0.65966,     0.66066,     0.66166,     0.66266,     0.66366,     0.66466,     0.66567,     0.66667,     0.66767,     0.66867,     0.66967,     0.67067,     0.67167,\n",
            "           0.67267,     0.67367,     0.67467,     0.67568,     0.67668,     0.67768,     0.67868,     0.67968,     0.68068,     0.68168,     0.68268,     0.68368,     0.68468,     0.68569,     0.68669,     0.68769,     0.68869,     0.68969,     0.69069,     0.69169,     0.69269,     0.69369,     0.69469,      0.6957,\n",
            "            0.6967,      0.6977,      0.6987,      0.6997,      0.7007,      0.7017,      0.7027,      0.7037,      0.7047,     0.70571,     0.70671,     0.70771,     0.70871,     0.70971,     0.71071,     0.71171,     0.71271,     0.71371,     0.71471,     0.71572,     0.71672,     0.71772,     0.71872,     0.71972,\n",
            "           0.72072,     0.72172,     0.72272,     0.72372,     0.72472,     0.72573,     0.72673,     0.72773,     0.72873,     0.72973,     0.73073,     0.73173,     0.73273,     0.73373,     0.73473,     0.73574,     0.73674,     0.73774,     0.73874,     0.73974,     0.74074,     0.74174,     0.74274,     0.74374,\n",
            "           0.74474,     0.74575,     0.74675,     0.74775,     0.74875,     0.74975,     0.75075,     0.75175,     0.75275,     0.75375,     0.75475,     0.75576,     0.75676,     0.75776,     0.75876,     0.75976,     0.76076,     0.76176,     0.76276,     0.76376,     0.76476,     0.76577,     0.76677,     0.76777,\n",
            "           0.76877,     0.76977,     0.77077,     0.77177,     0.77277,     0.77377,     0.77477,     0.77578,     0.77678,     0.77778,     0.77878,     0.77978,     0.78078,     0.78178,     0.78278,     0.78378,     0.78478,     0.78579,     0.78679,     0.78779,     0.78879,     0.78979,     0.79079,     0.79179,\n",
            "           0.79279,     0.79379,     0.79479,      0.7958,      0.7968,      0.7978,      0.7988,      0.7998,      0.8008,      0.8018,      0.8028,      0.8038,      0.8048,     0.80581,     0.80681,     0.80781,     0.80881,     0.80981,     0.81081,     0.81181,     0.81281,     0.81381,     0.81481,     0.81582,\n",
            "           0.81682,     0.81782,     0.81882,     0.81982,     0.82082,     0.82182,     0.82282,     0.82382,     0.82482,     0.82583,     0.82683,     0.82783,     0.82883,     0.82983,     0.83083,     0.83183,     0.83283,     0.83383,     0.83483,     0.83584,     0.83684,     0.83784,     0.83884,     0.83984,\n",
            "           0.84084,     0.84184,     0.84284,     0.84384,     0.84484,     0.84585,     0.84685,     0.84785,     0.84885,     0.84985,     0.85085,     0.85185,     0.85285,     0.85385,     0.85485,     0.85586,     0.85686,     0.85786,     0.85886,     0.85986,     0.86086,     0.86186,     0.86286,     0.86386,\n",
            "           0.86486,     0.86587,     0.86687,     0.86787,     0.86887,     0.86987,     0.87087,     0.87187,     0.87287,     0.87387,     0.87487,     0.87588,     0.87688,     0.87788,     0.87888,     0.87988,     0.88088,     0.88188,     0.88288,     0.88388,     0.88488,     0.88589,     0.88689,     0.88789,\n",
            "           0.88889,     0.88989,     0.89089,     0.89189,     0.89289,     0.89389,     0.89489,      0.8959,      0.8969,      0.8979,      0.8989,      0.8999,      0.9009,      0.9019,      0.9029,      0.9039,      0.9049,     0.90591,     0.90691,     0.90791,     0.90891,     0.90991,     0.91091,     0.91191,\n",
            "           0.91291,     0.91391,     0.91491,     0.91592,     0.91692,     0.91792,     0.91892,     0.91992,     0.92092,     0.92192,     0.92292,     0.92392,     0.92492,     0.92593,     0.92693,     0.92793,     0.92893,     0.92993,     0.93093,     0.93193,     0.93293,     0.93393,     0.93493,     0.93594,\n",
            "           0.93694,     0.93794,     0.93894,     0.93994,     0.94094,     0.94194,     0.94294,     0.94394,     0.94494,     0.94595,     0.94695,     0.94795,     0.94895,     0.94995,     0.95095,     0.95195,     0.95295,     0.95395,     0.95495,     0.95596,     0.95696,     0.95796,     0.95896,     0.95996,\n",
            "           0.96096,     0.96196,     0.96296,     0.96396,     0.96496,     0.96597,     0.96697,     0.96797,     0.96897,     0.96997,     0.97097,     0.97197,     0.97297,     0.97397,     0.97497,     0.97598,     0.97698,     0.97798,     0.97898,     0.97998,     0.98098,     0.98198,     0.98298,     0.98398,\n",
            "           0.98498,     0.98599,     0.98699,     0.98799,     0.98899,     0.98999,     0.99099,     0.99199,     0.99299,     0.99399,     0.99499,       0.996,       0.997,       0.998,       0.999,           1]), array([[          1,           1,           1,           1,           1,           1,           1,           1,           1,           1,     0.99787,     0.99787,      0.9968,      0.9968,      0.9968,     0.99573,     0.99573,     0.99573,     0.99573,     0.99573,     0.99573,     0.99573,     0.99573,\n",
            "            0.99573,     0.99573,     0.99573,     0.99573,     0.99573,     0.99573,     0.99573,     0.99466,     0.99466,     0.99466,     0.99466,     0.99466,     0.99466,     0.99466,      0.9936,      0.9936,      0.9936,      0.9936,      0.9936,      0.9936,      0.9936,      0.9936,      0.9936,\n",
            "             0.9936,      0.9936,      0.9936,      0.9936,      0.9936,      0.9936,      0.9936,      0.9936,      0.9936,      0.9936,      0.9936,      0.9936,      0.9936,      0.9936,      0.9936,      0.9936,      0.9936,      0.9936,      0.9936,      0.9936,      0.9936,      0.9936,      0.9936,\n",
            "             0.9936,      0.9936,      0.9936,      0.9936,      0.9936,     0.99253,     0.99253,      0.9922,     0.99146,     0.99146,     0.99146,     0.99146,     0.99146,     0.99146,     0.99146,     0.99146,     0.99146,     0.99146,     0.99146,     0.99146,     0.99146,     0.99146,     0.99146,\n",
            "            0.99146,     0.99146,     0.99146,     0.99058,     0.99039,     0.99039,     0.99039,     0.99039,     0.99039,     0.99039,     0.99039,     0.99039,     0.99039,     0.99039,     0.99039,     0.99039,     0.99039,     0.99039,     0.99039,     0.99039,     0.99039,     0.99039,     0.99039,\n",
            "            0.98933,     0.98933,     0.98933,     0.98933,     0.98933,     0.98933,     0.98933,     0.98933,     0.98933,     0.98933,     0.98933,     0.98933,     0.98933,     0.98933,     0.98933,     0.98826,     0.98826,     0.98826,     0.98826,     0.98826,     0.98826,     0.98826,     0.98826,\n",
            "            0.98826,     0.98826,     0.98826,     0.98826,     0.98826,     0.98826,     0.98826,     0.98826,     0.98826,     0.98826,     0.98826,     0.98826,     0.98826,     0.98826,     0.98825,     0.98722,     0.98719,     0.98719,     0.98719,     0.98719,     0.98719,     0.98719,     0.98719,\n",
            "            0.98719,     0.98719,     0.98719,     0.98719,     0.98719,     0.98719,     0.98719,     0.98719,     0.98719,     0.98719,     0.98719,     0.98719,     0.98719,     0.98719,     0.98719,     0.98719,     0.98719,     0.98719,     0.98719,     0.98719,     0.98719,     0.98719,     0.98719,\n",
            "            0.98719,     0.98719,     0.98613,     0.98613,     0.98613,     0.98613,     0.98553,     0.98506,     0.98506,     0.98506,     0.98506,     0.98506,     0.98459,     0.98407,     0.98399,     0.98399,     0.98292,     0.98292,     0.98292,     0.98292,     0.98292,     0.98292,     0.98292,\n",
            "            0.98292,     0.98292,     0.98292,     0.98292,     0.98292,     0.98292,     0.98292,     0.98292,     0.98292,     0.98292,     0.98292,     0.98292,     0.98292,     0.98292,     0.98292,     0.98292,     0.98292,     0.98292,     0.98292,     0.98292,     0.98292,     0.98292,     0.98292,\n",
            "            0.98292,     0.98186,     0.98186,     0.98186,     0.98186,     0.98186,     0.98186,     0.98186,     0.98082,     0.98079,     0.98079,     0.98079,     0.98079,     0.98079,     0.98079,     0.98075,     0.98038,     0.98001,     0.97972,     0.97963,     0.97922,     0.97881,     0.97865,\n",
            "            0.97843,      0.9782,     0.97798,     0.97775,     0.97759,     0.97759,     0.97759,     0.97759,     0.97759,     0.97759,     0.97759,     0.97759,     0.97759,     0.97759,     0.97759,     0.97712,     0.97656,     0.97652,     0.97619,     0.97551,     0.97545,     0.97545,     0.97406,\n",
            "             0.9734,     0.97332,     0.97332,     0.97332,     0.97332,     0.97332,     0.97332,     0.97332,     0.97332,     0.97332,     0.97323,     0.97291,     0.97259,     0.97227,     0.97225,     0.97225,     0.97225,     0.97225,     0.97225,     0.97225,     0.97225,     0.97225,     0.97225,\n",
            "            0.97225,     0.97225,     0.97214,     0.97192,      0.9717,     0.97148,     0.97126,     0.97118,     0.97118,     0.97118,     0.97088,      0.9705,     0.97012,     0.97012,     0.97012,     0.96905,     0.96905,     0.96905,     0.96905,     0.96905,     0.96905,     0.96905,     0.96905,\n",
            "            0.96905,     0.96905,     0.96905,     0.96905,     0.96798,     0.96798,     0.96798,     0.96798,     0.96798,     0.96798,     0.96798,     0.96798,     0.96798,     0.96798,     0.96798,     0.96798,     0.96798,     0.96798,     0.96798,     0.96798,     0.96798,     0.96798,     0.96692,\n",
            "            0.96692,     0.96692,     0.96538,     0.96479,     0.96478,     0.96478,     0.96478,     0.96478,     0.96478,     0.96478,     0.96478,     0.96478,     0.96478,     0.96478,     0.96478,     0.96478,     0.96478,     0.96478,     0.96478,     0.96478,     0.96478,     0.96478,     0.96478,\n",
            "            0.96478,     0.96478,     0.96478,     0.96478,     0.96478,     0.96478,     0.96478,     0.96478,     0.96478,     0.96478,     0.96478,     0.96478,     0.96478,     0.96478,     0.96478,     0.96478,     0.96478,     0.96478,     0.96478,     0.96478,     0.96322,     0.96252,     0.96219,\n",
            "            0.96187,     0.96158,     0.96158,     0.96158,     0.96158,     0.96145,     0.96128,      0.9611,     0.96093,     0.96075,     0.96058,     0.96051,     0.96051,     0.96051,     0.96051,     0.96051,     0.96051,     0.96051,     0.96051,     0.96051,     0.96039,     0.95989,     0.95945,\n",
            "             0.9593,     0.95875,     0.95791,     0.95731,     0.95731,     0.95731,     0.95731,     0.95698,     0.95619,     0.95574,     0.95529,     0.95457,     0.95411,     0.95404,     0.95358,     0.95312,     0.95304,     0.95304,     0.95304,     0.95304,     0.95304,     0.95304,     0.95304,\n",
            "            0.95304,     0.95304,     0.95304,     0.95304,     0.95304,     0.95304,     0.95304,     0.95304,     0.95304,     0.95304,     0.95304,     0.95304,     0.95304,     0.95304,     0.95304,     0.95284,     0.95198,     0.95197,     0.95164,     0.95118,     0.95091,     0.95091,     0.95055,\n",
            "            0.95016,     0.94877,     0.94847,     0.94771,      0.9469,     0.94664,     0.94664,     0.94664,     0.94664,     0.94664,     0.94511,      0.9445,      0.9445,      0.9445,      0.9445,      0.9445,      0.9445,      0.9445,      0.9445,     0.94447,     0.94375,     0.94237,     0.94237,\n",
            "            0.94237,     0.94237,     0.94237,     0.94237,     0.94237,     0.94237,     0.94237,     0.94237,     0.94234,     0.94132,     0.94075,      0.9399,     0.93917,     0.93917,     0.93917,     0.93917,     0.93917,     0.93917,     0.93917,     0.93917,     0.93917,     0.93917,     0.93917,\n",
            "            0.93917,     0.93917,     0.93906,     0.93886,     0.93865,     0.93845,     0.93825,     0.93703,     0.93703,     0.93703,     0.93703,     0.93703,     0.93703,     0.93703,     0.93675,     0.93617,      0.9349,      0.9349,      0.9349,      0.9349,      0.9349,      0.9349,     0.93462,\n",
            "            0.93381,     0.93333,     0.93285,     0.93276,     0.93232,     0.93162,     0.93107,     0.93063,     0.93035,     0.93001,     0.92967,     0.92956,     0.92956,      0.9293,       0.929,      0.9287,      0.9285,      0.9285,     0.92838,     0.92824,     0.92809,     0.92794,     0.92779,\n",
            "            0.92764,     0.92749,     0.92714,     0.92664,     0.92612,     0.92557,     0.92501,     0.92442,     0.92423,     0.92423,     0.92423,     0.92423,     0.92423,     0.92394,     0.92365,     0.92335,     0.92316,     0.92316,     0.92316,      0.9227,     0.92089,     0.92064,      0.9204,\n",
            "            0.92015,     0.91996,     0.91996,     0.91996,     0.91996,     0.91996,     0.91996,     0.91996,     0.91996,     0.91889,     0.91888,     0.91839,     0.91791,     0.91665,     0.91565,     0.91476,     0.91462,     0.91462,     0.91462,     0.91462,     0.91396,     0.91249,     0.91249,\n",
            "            0.91249,     0.91245,     0.90992,     0.90861,     0.90792,     0.90751,     0.90695,     0.90532,     0.90395,     0.90395,     0.90395,     0.90395,      0.9029,     0.90241,     0.90193,     0.90127,     0.90075,     0.90075,     0.89968,     0.89861,     0.89844,     0.89794,     0.89742,\n",
            "            0.89673,     0.89591,     0.89516,     0.89486,     0.89456,     0.89416,     0.89345,     0.89176,     0.89114,     0.89114,     0.89114,     0.89114,     0.89114,     0.89007,     0.88986,     0.88915,     0.88843,     0.88794,     0.88588,     0.88445,     0.88356,     0.88314,     0.88272,\n",
            "            0.88194,     0.88154,     0.88132,     0.88077,     0.88047,      0.8797,     0.87836,     0.87634,     0.87513,     0.87316,     0.87193,     0.87187,     0.87147,     0.87107,     0.87027,     0.86873,     0.86767,     0.86688,     0.86553,     0.86446,     0.86446,     0.86446,     0.86446,\n",
            "            0.86446,     0.86445,     0.86319,     0.86279,     0.86238,     0.86076,     0.85945,     0.85861,     0.85718,     0.85575,     0.85379,     0.85379,     0.85379,     0.85376,     0.85332,     0.85289,     0.84994,     0.84859,     0.84706,     0.84649,     0.84632,     0.84632,     0.84596,\n",
            "            0.84532,     0.84404,     0.84326,     0.84273,     0.84226,     0.84184,     0.84016,     0.83991,     0.83885,     0.83778,     0.83778,     0.83717,      0.8363,     0.83542,     0.83484,     0.83458,     0.83458,     0.83458,     0.83351,     0.83254,     0.83141,     0.82937,     0.82759,\n",
            "            0.82583,     0.82532,      0.8247,     0.82379,     0.82284,     0.82232,     0.82081,     0.81817,     0.81726,     0.81688,     0.81649,     0.81623,     0.81599,     0.81575,     0.81551,     0.81352,     0.81217,      0.8111,     0.81015,     0.80948,     0.80865,      0.8066,     0.80594,\n",
            "            0.80363,     0.80247,      0.8019,     0.80043,     0.80043,     0.80043,     0.80043,     0.79858,     0.79761,     0.79532,     0.79282,     0.79254,     0.79225,     0.79196,     0.79104,     0.78986,     0.78696,      0.7833,     0.78179,     0.78033,     0.77842,     0.77725,     0.77384,\n",
            "            0.77375,     0.77375,     0.77258,     0.77173,      0.7694,     0.76726,     0.76628,     0.76497,     0.76343,     0.75876,     0.75761,     0.75467,     0.75163,     0.74856,     0.74455,     0.74264,     0.74147,     0.73932,     0.73742,     0.73639,      0.7359,     0.73536,      0.7335,\n",
            "            0.73229,     0.72938,     0.72753,     0.72681,     0.72423,     0.72205,     0.72043,     0.71437,     0.71272,     0.70971,     0.70509,     0.70256,     0.70122,     0.70035,     0.69673,      0.6953,      0.6926,     0.69107,     0.68837,     0.68591,     0.68339,     0.68151,     0.67948,\n",
            "            0.67545,     0.67302,     0.67034,     0.66518,     0.65993,     0.65464,     0.65324,     0.65028,      0.6482,     0.64486,     0.64358,     0.64022,     0.63951,      0.6373,     0.63427,     0.62742,     0.62367,      0.6179,     0.61506,     0.60832,     0.60427,     0.59946,     0.59658,\n",
            "             0.5957,     0.58886,     0.58453,     0.57856,     0.57486,     0.57077,     0.56365,     0.55782,     0.54886,     0.54749,     0.54288,     0.53918,      0.5363,     0.52871,     0.52341,     0.51956,     0.51216,     0.50242,      0.4978,      0.4909,     0.48645,     0.47962,     0.46982,\n",
            "             0.4647,      0.4532,     0.44933,     0.44067,     0.43496,     0.43028,     0.42208,     0.41456,     0.40639,     0.40208,     0.39559,      0.3895,     0.38217,     0.37744,     0.37385,     0.36681,     0.35671,     0.34925,     0.34596,     0.33783,     0.32895,     0.31964,     0.30809,\n",
            "            0.30209,     0.29394,     0.28755,     0.27801,      0.2623,     0.25127,     0.24366,     0.23647,     0.23091,     0.21945,     0.21304,      0.2027,     0.19776,     0.18841,     0.17986,     0.17121,     0.15468,     0.15063,     0.13989,     0.13382,     0.12711,     0.11948,     0.10992,\n",
            "            0.10129,    0.095366,    0.090755,    0.085874,    0.077879,     0.07483,     0.07244,     0.06291,    0.060571,    0.059092,    0.056529,    0.053531,    0.050803,     0.04888,    0.045826,    0.042064,    0.039536,    0.034766,    0.030779,     0.02961,    0.026319,    0.024866,    0.023637,\n",
            "           0.022489,    0.021547,    0.020685,    0.019602,    0.018952,    0.018583,    0.018214,    0.017935,    0.017678,    0.017421,    0.017163,    0.016538,    0.015912,    0.015639,    0.015365,    0.015091,    0.013094,    0.011565,     0.01132,    0.011074,    0.010828,    0.010405,   0.0096725,\n",
            "          0.0094661,   0.0093129,   0.0091598,   0.0090066,   0.0088535,   0.0087003,   0.0085472,    0.008357,   0.0081645,   0.0079719,   0.0077794,   0.0075868,   0.0064068,   0.0061252,   0.0058467,   0.0055681,   0.0053006,    0.005088,   0.0048754,   0.0046629,   0.0044503,   0.0041063,   0.0030718,\n",
            "          0.0023608,   0.0020793,   0.0019983,   0.0019173,   0.0018363,   0.0017553,   0.0016743,   0.0015933,   0.0015123,   0.0014313,   0.0013503,   0.0012693,   0.0011883,   0.0011073,           0,           0,           0,           0,           0,           0,           0,           0,           0,\n",
            "                  0,           0,           0,           0,           0,           0,           0,           0,           0,           0,           0]]), 'Confidence', 'Recall']]\n",
            "fitness: np.float64(0.7564927290366075)\n",
            "keys: ['metrics/precision(B)', 'metrics/recall(B)', 'metrics/mAP50(B)', 'metrics/mAP50-95(B)']\n",
            "maps: array([    0.73216])\n",
            "names: {0: 'Vehicle'}\n",
            "nt_per_class: array([937])\n",
            "nt_per_image: array([90])\n",
            "results_dict: {'metrics/precision(B)': np.float64(0.9001696912188982), 'metrics/recall(B)': np.float64(0.9391675560298826), 'metrics/mAP50(B)': np.float64(0.9754717474334441), 'metrics/mAP50-95(B)': np.float64(0.7321617269925145), 'fitness': np.float64(0.7564927290366075)}\n",
            "speed: {'preprocess': 0.5125187444478898, 'inference': 8.963176999999531, 'loss': 0.004020188890131573, 'postprocess': 1.9414751444426455}\n",
            "stats: {'tp': [], 'conf': [], 'pred_cls': [], 'target_cls': [], 'target_img': []}\n",
            "task: 'detect'\n",
            "\n",
            "image 1/90 /content/data/valid/images/10_mp4-0_jpg.rf.08b3bd34bbb73fb80c2d662c34474a98.jpg: 640x640 26 Vehicles, 8.0ms\n",
            "image 2/90 /content/data/valid/images/10_mp4-13_jpg.rf.aff71e875ee297d3086b715b7d6aaf26.jpg: 640x640 29 Vehicles, 7.4ms\n",
            "image 3/90 /content/data/valid/images/10_mp4-16_jpg.rf.b01cbf556a5a2c4154322deda0339880.jpg: 640x640 32 Vehicles, 7.7ms\n",
            "image 4/90 /content/data/valid/images/10_mp4-23_jpg.rf.13b084ba8417c6d0aaf5d4c35ddba6ac.jpg: 640x640 33 Vehicles, 7.4ms\n",
            "image 5/90 /content/data/valid/images/10_mp4-25_jpg.rf.11c919cc683cc6a0d0a658be13483748.jpg: 640x640 37 Vehicles, 8.6ms\n",
            "image 6/90 /content/data/valid/images/10_mp4-31_jpg.rf.0daa09b648954e3a19824a49ad49876e.jpg: 640x640 36 Vehicles, 7.4ms\n",
            "image 7/90 /content/data/valid/images/10_mp4-35_jpg.rf.5de759e599ee930d33ec127e04347f97.jpg: 640x640 38 Vehicles, 7.4ms\n",
            "image 8/90 /content/data/valid/images/10_mp4-39_jpg.rf.af70092b5f2277f16d2703a4d59c3313.jpg: 640x640 36 Vehicles, 10.6ms\n",
            "image 9/90 /content/data/valid/images/10_mp4-46_jpg.rf.6f582e01a1a77c50f2716ac606abe4fe.jpg: 640x640 32 Vehicles, 7.4ms\n",
            "image 10/90 /content/data/valid/images/10_mp4-9_jpg.rf.72a35ba2f76343afc7a101e720dbbb81.jpg: 640x640 29 Vehicles, 7.6ms\n",
            "image 11/90 /content/data/valid/images/11_mp4-15_jpg.rf.b1bdb8b4864b5bed3c78f1a70e2dc011.jpg: 640x640 13 Vehicles, 7.4ms\n",
            "image 12/90 /content/data/valid/images/11_mp4-24_jpg.rf.49cf501f701c9bba3f940e2c9530d258.jpg: 640x640 12 Vehicles, 7.4ms\n",
            "image 13/90 /content/data/valid/images/11_mp4-28_jpg.rf.afaa0527199e4ac7b9564b9552575d33.jpg: 640x640 12 Vehicles, 8.6ms\n",
            "image 14/90 /content/data/valid/images/11_mp4-29_jpg.rf.f4e8f8309727d46eec20a7c469f54d9c.jpg: 640x640 13 Vehicles, 7.4ms\n",
            "image 15/90 /content/data/valid/images/11_mp4-2_jpg.rf.4297efcf4f8f508d37d3310e30dc2b96.jpg: 640x640 14 Vehicles, 7.5ms\n",
            "image 16/90 /content/data/valid/images/11_mp4-7_jpg.rf.c29830bf45870c97e8667ce13c0994a9.jpg: 640x640 15 Vehicles, 7.4ms\n",
            "image 17/90 /content/data/valid/images/12_mp4-10_jpg.rf.4bb699a2ec90e19cb4680ee239ae579c.jpg: 640x640 4 Vehicles, 7.4ms\n",
            "image 18/90 /content/data/valid/images/12_mp4-16_jpg.rf.0fcd57e7a8e7f4345ede8d494fbc75be.jpg: 640x640 3 Vehicles, 7.4ms\n",
            "image 19/90 /content/data/valid/images/12_mp4-18_jpg.rf.3a9772dc3c051396fd79732651cb66a3.jpg: 640x640 3 Vehicles, 11.3ms\n",
            "image 20/90 /content/data/valid/images/12_mp4-24_jpg.rf.b5c9acb867e41055973828d5c43ed57e.jpg: 640x640 4 Vehicles, 13.4ms\n",
            "image 21/90 /content/data/valid/images/12_mp4-27_jpg.rf.2b272befa75f6ccd269223ccc84e5391.jpg: 640x640 6 Vehicles, 7.4ms\n",
            "image 22/90 /content/data/valid/images/12_mp4-2_jpg.rf.079207e8096200ec6c611a449898ad40.jpg: 640x640 7 Vehicles, 7.4ms\n",
            "image 23/90 /content/data/valid/images/13_mp4-16_jpg.rf.dbcfa7de2863879d3000ca35d30610e9.jpg: 640x640 7 Vehicles, 7.4ms\n",
            "image 24/90 /content/data/valid/images/13_mp4-18_jpg.rf.4ad6c1d97b9a99efd21cbbf3f6da9d89.jpg: 640x640 9 Vehicles, 7.4ms\n",
            "image 25/90 /content/data/valid/images/13_mp4-21_jpg.rf.384d3e564126403c9eeb3ad9deebf3a6.jpg: 640x640 8 Vehicles, 7.4ms\n",
            "image 26/90 /content/data/valid/images/13_mp4-5_jpg.rf.8c55dff632bf3a3a35da021c5bd43091.jpg: 640x640 6 Vehicles, 7.4ms\n",
            "image 27/90 /content/data/valid/images/13_mp4-9_jpg.rf.e26b4d37b22952e51e74e45fccb725c4.jpg: 640x640 8 Vehicles, 8.6ms\n",
            "image 28/90 /content/data/valid/images/14_mp4-0_jpg.rf.a9de046366e99b1b12a43c93614e1c60.jpg: 640x640 7 Vehicles, 7.4ms\n",
            "image 29/90 /content/data/valid/images/14_mp4-10_jpg.rf.edf4723435ff483f7d55c474a60be14d.jpg: 640x640 10 Vehicles, 8.7ms\n",
            "image 30/90 /content/data/valid/images/14_mp4-15_jpg.rf.9640ab027504af3733b76827756764eb.jpg: 640x640 5 Vehicles, 7.4ms\n",
            "image 31/90 /content/data/valid/images/14_mp4-24_jpg.rf.57d5fe50d543f58e3b1f761ee53e1aa8.jpg: 640x640 8 Vehicles, 7.4ms\n",
            "image 32/90 /content/data/valid/images/14_mp4-2_jpg.rf.2f13b98e9712d8b5bef0b7b419a376b2.jpg: 640x640 9 Vehicles, 8.3ms\n",
            "image 33/90 /content/data/valid/images/14_mp4-5_jpg.rf.56b529ccef99d8c81d68610e5a5e3929.jpg: 640x640 5 Vehicles, 7.4ms\n",
            "image 34/90 /content/data/valid/images/15_mp4-0_jpg.rf.f4bc7ddd112a3eca776a8cf90c3f7bb1.jpg: 640x640 4 Vehicles, 9.5ms\n",
            "image 35/90 /content/data/valid/images/15_mp4-10_jpg.rf.36bd6816aa11df00d569dd41116d9322.jpg: 640x640 4 Vehicles, 7.4ms\n",
            "image 36/90 /content/data/valid/images/15_mp4-6_jpg.rf.f8ad77cac61af6ee1b551af09789bc24.jpg: 640x640 5 Vehicles, 7.0ms\n",
            "image 37/90 /content/data/valid/images/16_mp4-1_jpg.rf.3493f4b7618e207609847857a20dbaff.jpg: 640x640 15 Vehicles, 6.9ms\n",
            "image 38/90 /content/data/valid/images/1_mp4-0_jpg.rf.71f17d5bdbcac3f9939ae34558b63288.jpg: 640x640 6 Vehicles, 7.0ms\n",
            "image 39/90 /content/data/valid/images/2_mp4-10_jpg.rf.97b46cb44bcae5057b47db4ebbbe9305.jpg: 640x640 5 Vehicles, 7.5ms\n",
            "image 40/90 /content/data/valid/images/2_mp4-17_jpg.rf.2948c849931a8eff6c6641d24c1cfc8f.jpg: 640x640 5 Vehicles, 6.9ms\n",
            "image 41/90 /content/data/valid/images/2_mp4-1_jpg.rf.b52c12a365fbeb71e302f0505038959b.jpg: 640x640 3 Vehicles, 6.9ms\n",
            "image 42/90 /content/data/valid/images/2_mp4-22_jpg.rf.7e53e9a475efa9889dc0a74380255e9b.jpg: 640x640 10 Vehicles, 6.9ms\n",
            "image 43/90 /content/data/valid/images/2_mp4-5_jpg.rf.bb490ff3835ac898dedea95c973038f5.jpg: 640x640 5 Vehicles, 8.3ms\n",
            "image 44/90 /content/data/valid/images/3_mp4-14_jpg.rf.6597c5732e0d554f1f07edb59abb4f8b.jpg: 640x640 1 Vehicle, 7.0ms\n",
            "image 45/90 /content/data/valid/images/3_mp4-17_jpg.rf.fdfd6a4ddf7c5f516a940b2452857d67.jpg: 640x640 1 Vehicle, 7.0ms\n",
            "image 46/90 /content/data/valid/images/3_mp4-2_jpg.rf.fb3ec30812baf2bbaca8718878601bde.jpg: 640x640 4 Vehicles, 6.9ms\n",
            "image 47/90 /content/data/valid/images/3_mp4-8_jpg.rf.4a784fedfdd385032614371ea5cb78fa.jpg: 640x640 2 Vehicles, 7.0ms\n",
            "image 48/90 /content/data/valid/images/4_mp4-1_jpg.rf.a1b873f83491736ca8bc5817761a2ec3.jpg: 640x640 17 Vehicles, 7.3ms\n",
            "image 49/90 /content/data/valid/images/4_mp4-7_jpg.rf.439bc6176789cd7ca6bd686e23fc5ddf.jpg: 640x640 19 Vehicles, 6.8ms\n",
            "image 50/90 /content/data/valid/images/4_mp4-8_jpg.rf.1d199d41f6c3738763c192883ad1a5b4.jpg: 640x640 17 Vehicles, 6.8ms\n",
            "image 51/90 /content/data/valid/images/5_mp4-21_jpg.rf.e1f8c70bc4d3aee7e30f029aa44fd7a0.jpg: 640x640 20 Vehicles, 6.8ms\n",
            "image 52/90 /content/data/valid/images/5_mp4-26_jpg.rf.61d8ef7774c6c33aa7015c91dc91aa34.jpg: 640x640 18 Vehicles, 8.3ms\n",
            "image 53/90 /content/data/valid/images/5_mp4-27_jpg.rf.30a8975089fb66bc245019de9d868801.jpg: 640x640 19 Vehicles, 7.2ms\n",
            "image 54/90 /content/data/valid/images/5_mp4-29_jpg.rf.de506ae3402dafeffb1e6427af894871.jpg: 640x640 19 Vehicles, 6.8ms\n",
            "image 55/90 /content/data/valid/images/5_mp4-5_jpg.rf.47c7656c79a6cfa7dbabfcaaeef94dea.jpg: 640x640 22 Vehicles, 6.8ms\n",
            "image 56/90 /content/data/valid/images/5_mp4-9_jpg.rf.7935a441141908423532c47b7ac06cde.jpg: 640x640 22 Vehicles, 8.3ms\n",
            "image 57/90 /content/data/valid/images/6_mp4-0_jpg.rf.9a055d040151678e04cb48a8bde76f55.jpg: 640x640 4 Vehicles, 6.8ms\n",
            "image 58/90 /content/data/valid/images/6_mp4-10_jpg.rf.4e74eb10d5dc733c083cdf4f227386ab.jpg: 640x640 4 Vehicles, 6.8ms\n",
            "image 59/90 /content/data/valid/images/6_mp4-14_jpg.rf.a5099c3eeb2c707a2193c0efa467bb2a.jpg: 640x640 4 Vehicles, 7.8ms\n",
            "image 60/90 /content/data/valid/images/6_mp4-1_jpg.rf.a30955a1b5b2a8db39354221db4f5b5f.jpg: 640x640 4 Vehicles, 6.8ms\n",
            "image 61/90 /content/data/valid/images/6_mp4-23_jpg.rf.1b0bacb47ce35aab7a6ddd69b6f7f334.jpg: 640x640 3 Vehicles, 7.6ms\n",
            "image 62/90 /content/data/valid/images/6_mp4-24_jpg.rf.b11ebad90583e724f447a295f04e9bf0.jpg: 640x640 3 Vehicles, 8.5ms\n",
            "image 63/90 /content/data/valid/images/6_mp4-29_jpg.rf.e73ca25e92e590b325006f010ad4e319.jpg: 640x640 3 Vehicles, 6.8ms\n",
            "image 64/90 /content/data/valid/images/6_mp4-31_jpg.rf.c786274ab129629ca618e454b4146f11.jpg: 640x640 3 Vehicles, 6.9ms\n",
            "image 65/90 /content/data/valid/images/7_mp4-11_jpg.rf.02a513fa7473144494b7a53fc14b6560.jpg: 640x640 4 Vehicles, 6.8ms\n",
            "image 66/90 /content/data/valid/images/7_mp4-16_jpg.rf.4adf9f6fc7b5f6571fd1ef429cd79026.jpg: 640x640 4 Vehicles, 9.3ms\n",
            "image 67/90 /content/data/valid/images/7_mp4-24_jpg.rf.ed2484fe45c32f27443cccd8bbf99361.jpg: 640x640 2 Vehicles, 6.8ms\n",
            "image 68/90 /content/data/valid/images/7_mp4-5_jpg.rf.4fbccc6bf11dc163e1ff276014a55561.jpg: 640x640 7 Vehicles, 6.8ms\n",
            "image 69/90 /content/data/valid/images/7_mp4-6_jpg.rf.3f9214d14313fa7dd572e7739bbe7398.jpg: 640x640 4 Vehicles, 6.8ms\n",
            "image 70/90 /content/data/valid/images/8_mp4-0_jpg.rf.3b2c1cfee1946594ca79d413e945d30a.jpg: 640x640 11 Vehicles, 9.6ms\n",
            "image 71/90 /content/data/valid/images/8_mp4-12_jpg.rf.dcbef9dfc2cf3b8eecf139c256caa179.jpg: 640x640 17 Vehicles, 6.9ms\n",
            "image 72/90 /content/data/valid/images/8_mp4-14_jpg.rf.e15e22de0316fce6d319640eae7a04c3.jpg: 640x640 14 Vehicles, 6.8ms\n",
            "image 73/90 /content/data/valid/images/8_mp4-19_jpg.rf.5a133390424449e110bab4a90be94355.jpg: 640x640 15 Vehicles, 11.4ms\n",
            "image 74/90 /content/data/valid/images/8_mp4-22_jpg.rf.cc0d05137c80f5ef9057177e101b4e13.jpg: 640x640 16 Vehicles, 9.2ms\n",
            "image 75/90 /content/data/valid/images/8_mp4-39_jpg.rf.bf01d183fca62e3316a0e4b31bfdf0da.jpg: 640x640 30 Vehicles, 10.0ms\n",
            "image 76/90 /content/data/valid/images/8_mp4-3_jpg.rf.05628975b0d5e011fe6ada765f915cd1.jpg: 640x640 16 Vehicles, 6.9ms\n",
            "image 77/90 /content/data/valid/images/8_mp4-45_jpg.rf.459ab8691a64f40ebf3a5ab525476aca.jpg: 640x640 21 Vehicles, 8.4ms\n",
            "image 78/90 /content/data/valid/images/8_mp4-6_jpg.rf.9eddb296d3861c6af62c2d2c3ca30fb2.jpg: 640x640 17 Vehicles, 6.9ms\n",
            "image 79/90 /content/data/valid/images/test2_mp4-16_jpg.rf.585413166ce3fb74dc3e975edc009020.jpg: 640x640 20 Vehicles, 7.2ms\n",
            "image 80/90 /content/data/valid/images/test2_mp4-19_jpg.rf.a3723816acc8bacb1350cc05fb78b924.jpg: 640x640 25 Vehicles, 6.8ms\n",
            "image 81/90 /content/data/valid/images/test2_mp4-1_jpg.rf.695e12d07d9427f18d33d1e69827075f.jpg: 640x640 18 Vehicles, 7.1ms\n",
            "image 82/90 /content/data/valid/images/test2_mp4-21_jpg.rf.bbb3ba4e4b69e5a12822300829bf75f0.jpg: 640x640 19 Vehicles, 6.8ms\n",
            "image 83/90 /content/data/valid/images/test2_mp4-8_jpg.rf.c10dd559d44a868fd6f6877fd734815a.jpg: 640x640 22 Vehicles, 7.9ms\n",
            "image 84/90 /content/data/valid/images/test3_mp4-4_jpg.rf.4117c2b721818a818f810d1ed547e1db.jpg: 640x640 10 Vehicles, 6.8ms\n",
            "image 85/90 /content/data/valid/images/test3_mp4-5_jpg.rf.9750bf1cd88f2dce07edd907b7dc61f4.jpg: 640x640 5 Vehicles, 6.8ms\n",
            "image 86/90 /content/data/valid/images/test3_mp4-8_jpg.rf.8223a2cf9be640b80ee97b8c3e46d8c3.jpg: 640x640 4 Vehicles, 6.8ms\n",
            "image 87/90 /content/data/valid/images/test_mp4-10_jpg.rf.2ca4c14abaa5734493da3c35e2089f1c.jpg: 640x640 21 Vehicles, 7.8ms\n",
            "image 88/90 /content/data/valid/images/test_mp4-13_jpg.rf.98cd77f75c4492f8f103aaf4ce2ca8f8.jpg: 640x640 18 Vehicles, 6.8ms\n",
            "image 89/90 /content/data/valid/images/test_mp4-15_jpg.rf.2e20880f4bc2ad6347a6a98e8f4ef849.jpg: 640x640 23 Vehicles, 6.8ms\n",
            "image 90/90 /content/data/valid/images/test_mp4-2_jpg.rf.7aa04dc29802950b7aa81fd4f5cc5d7c.jpg: 640x640 21 Vehicles, 6.8ms\n",
            "Speed: 2.8ms preprocess, 7.6ms inference, 1.5ms postprocess per image at shape (1, 3, 640, 640)\n",
            "Results saved to \u001b[1mruns/detect/train3\u001b[0m\n"
          ]
        }
      ],
      "source": [
        "from ultralytics import YOLO\n",
        "\n",
        "\n",
        "\n",
        "model = YOLO('yolov8n.pt')\n",
        "model.train(data='/content/data/data.yaml',\n",
        "        epochs=30,\n",
        "        imgsz=640,\n",
        "        batch=4,\n",
        "        device=0\n",
        "    )\n",
        "\n",
        "metrics = model.val()\n",
        "print(metrics)\n",
        "\n",
        "results = model.predict(source=\"/content/data/valid/images\", save=True)\n"
      ]
    },
    {
      "cell_type": "code",
      "source": [],
      "metadata": {
        "id": "RAdd-P-pSEkK"
      },
      "execution_count": null,
      "outputs": []
    }
  ]
}